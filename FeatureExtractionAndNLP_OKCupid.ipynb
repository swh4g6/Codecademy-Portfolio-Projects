{
 "cells": [
  {
   "cell_type": "markdown",
   "metadata": {},
   "source": [
    "# Feature Extraction, NLP and LogRegression: OKCupid Profiles\n",
    "\n",
    "## Introduction:\n",
    "This project analyzes data from the online dating application, OKCupid, that is a summary of profile information from users in the San Francisco Bay Area. The goal is to scope, prep, analyze/extract features and create a logistic regression model to answer a question:\n",
    "Can you predict if someone works in a STEM (Science, Technology, Engineering and Math) profession based on their user profile data?\n",
    "\n",
    "**Data sources:**\n",
    "\n",
    "`profiles.csv` was provided by Codecademy.com.\n",
    "\n",
    "## Scope:\n",
    "### Project Goal\n",
    "The goal is to use exploratory data analysis to identify potential features of OKCupid profiles that may help predict whether or not an individual works in the STEM field. I will then use these features to build and evaluate a logistic regression model. This will demonstrate and exercise skills in data cleaning, feature extraction, natural language processing and model evaluation.\n",
    "### Data\n",
    "The project has one data set provided by Codecademy called profiles.csv. In the data, each row represents an OkCupid user and the columns are the responses to their user profile questions, which include multiple-choice and short answer questions. It consists of a mixture of numerical, categorical and free-text variables.\n",
    "### Analysis\n",
    "I will use descriptive statistics, data visualization, and natural language processing to find the key features that will most likely provide significant predictive power for the logistic regression model. Subsets of numerical, categorical and NLP derived features will be used to compare against and improve baseline model performance.\n",
    "### Evaluation\n",
    "Model performance will be initially evaluated based on Area Under the Receiver Operating Characteristic Curve (ROC AUC). The final model will also be evaluated based on accuracy score and confusion matrix statistics with a discussion on how to select a threshold based on profit-matrix values.\n",
    "\n",
    "## Load General Libraries and Data:"
   ]
  },
  {
   "cell_type": "code",
   "execution_count": 1,
   "metadata": {},
   "outputs": [],
   "source": [
    "## General libraries\n",
    "import numpy as np\n",
    "import pandas as pd\n",
    "\n",
    "# Visualization libraries\n",
    "from matplotlib import pyplot as plt\n",
    "import seaborn as sns\n",
    "\n",
    "%matplotlib inline"
   ]
  },
  {
   "cell_type": "code",
   "execution_count": 2,
   "metadata": {},
   "outputs": [
    {
     "name": "stdout",
     "output_type": "stream",
     "text": [
      "(59946, 31)\n",
      "<class 'pandas.core.frame.DataFrame'>\n",
      "RangeIndex: 59946 entries, 0 to 59945\n",
      "Data columns (total 31 columns):\n",
      " #   Column       Non-Null Count  Dtype  \n",
      "---  ------       --------------  -----  \n",
      " 0   age          59946 non-null  int64  \n",
      " 1   body_type    54650 non-null  object \n",
      " 2   diet         35551 non-null  object \n",
      " 3   drinks       56961 non-null  object \n",
      " 4   drugs        45866 non-null  object \n",
      " 5   education    53318 non-null  object \n",
      " 6   essay0       54458 non-null  object \n",
      " 7   essay1       52374 non-null  object \n",
      " 8   essay2       50308 non-null  object \n",
      " 9   essay3       48470 non-null  object \n",
      " 10  essay4       49409 non-null  object \n",
      " 11  essay5       49096 non-null  object \n",
      " 12  essay6       46175 non-null  object \n",
      " 13  essay7       47495 non-null  object \n",
      " 14  essay8       40721 non-null  object \n",
      " 15  essay9       47343 non-null  object \n",
      " 16  ethnicity    54266 non-null  object \n",
      " 17  height       59943 non-null  float64\n",
      " 18  income       59946 non-null  int64  \n",
      " 19  job          51748 non-null  object \n",
      " 20  last_online  59946 non-null  object \n",
      " 21  location     59946 non-null  object \n",
      " 22  offspring    24385 non-null  object \n",
      " 23  orientation  59946 non-null  object \n",
      " 24  pets         40025 non-null  object \n",
      " 25  religion     39720 non-null  object \n",
      " 26  sex          59946 non-null  object \n",
      " 27  sign         48890 non-null  object \n",
      " 28  smokes       54434 non-null  object \n",
      " 29  speaks       59896 non-null  object \n",
      " 30  status       59946 non-null  object \n",
      "dtypes: float64(1), int64(2), object(28)\n",
      "memory usage: 14.2+ MB\n"
     ]
    }
   ],
   "source": [
    "# load profile data\n",
    "profiles = pd.read_csv('profiles.csv', encoding='utf-8')\n",
    "#print(profiles.head())\n",
    "print(profiles.shape)\n",
    "#print(profiles.dtypes)\n",
    "\n",
    "profiles.info()"
   ]
  },
  {
   "cell_type": "code",
   "execution_count": 3,
   "metadata": {},
   "outputs": [
    {
     "name": "stdout",
     "output_type": "stream",
     "text": [
      "average           14652\n",
      "fit               12711\n",
      "athletic          11819\n",
      "thin               4711\n",
      "curvy              3924\n",
      "a little extra     2629\n",
      "skinny             1777\n",
      "full figured       1009\n",
      "overweight          444\n",
      "jacked              421\n",
      "used up             355\n",
      "rather not say      198\n",
      "Name: body_type, dtype: int64\n",
      "mostly anything        16585\n",
      "anything                6183\n",
      "strictly anything       5113\n",
      "mostly vegetarian       3444\n",
      "mostly other            1007\n",
      "strictly vegetarian      875\n",
      "vegetarian               667\n",
      "strictly other           452\n",
      "mostly vegan             338\n",
      "other                    331\n",
      "strictly vegan           228\n",
      "vegan                    136\n",
      "mostly kosher             86\n",
      "mostly halal              48\n",
      "strictly halal            18\n",
      "strictly kosher           18\n",
      "halal                     11\n",
      "kosher                    11\n",
      "Name: diet, dtype: int64\n",
      "socially       41780\n",
      "rarely          5957\n",
      "often           5164\n",
      "not at all      3267\n",
      "very often       471\n",
      "desperately      322\n",
      "Name: drinks, dtype: int64\n",
      "never        37724\n",
      "sometimes     7732\n",
      "often          410\n",
      "Name: drugs, dtype: int64\n",
      "graduated from college/university    23959\n",
      "graduated from masters program        8961\n",
      "working on college/university         5712\n",
      "working on masters program            1683\n",
      "graduated from two-year college       1531\n",
      "graduated from high school            1428\n",
      "graduated from ph.d program           1272\n",
      "graduated from law school             1122\n",
      "working on two-year college           1074\n",
      "dropped out of college/university      995\n",
      "working on ph.d program                983\n",
      "college/university                     801\n",
      "graduated from space camp              657\n",
      "dropped out of space camp              523\n",
      "graduated from med school              446\n",
      "working on space camp                  445\n",
      "working on law school                  269\n",
      "two-year college                       222\n",
      "working on med school                  212\n",
      "dropped out of two-year college        191\n",
      "dropped out of masters program         140\n",
      "masters program                        136\n",
      "dropped out of ph.d program            127\n",
      "dropped out of high school             102\n",
      "high school                             96\n",
      "working on high school                  87\n",
      "space camp                              58\n",
      "ph.d program                            26\n",
      "law school                              19\n",
      "dropped out of law school               18\n",
      "dropped out of med school               12\n",
      "med school                              11\n",
      "Name: education, dtype: int64\n",
      "white                                                   32831\n",
      "asian                                                    6134\n",
      "hispanic / latin                                         2823\n",
      "black                                                    2008\n",
      "other                                                    1706\n",
      "                                                        ...  \n",
      "asian, black, indian, hispanic / latin, other               1\n",
      "asian, middle eastern, black, pacific islander              1\n",
      "middle eastern, black, native american, indian              1\n",
      "black, native american, pacific islander, other             1\n",
      "middle eastern, black, native american, white, other        1\n",
      "Name: ethnicity, Length: 217, dtype: int64\n",
      "other                                7589\n",
      "student                              4882\n",
      "science / tech / engineering         4848\n",
      "computer / hardware / software       4709\n",
      "artistic / musical / writer          4439\n",
      "sales / marketing / biz dev          4391\n",
      "medicine / health                    3680\n",
      "education / academia                 3513\n",
      "executive / management               2373\n",
      "banking / financial / real estate    2266\n",
      "entertainment / media                2250\n",
      "law / legal services                 1381\n",
      "hospitality / travel                 1364\n",
      "construction / craftsmanship         1021\n",
      "clerical / administrative             805\n",
      "political / government                708\n",
      "rather not say                        436\n",
      "transportation                        366\n",
      "unemployed                            273\n",
      "retired                               250\n",
      "military                              204\n",
      "Name: job, dtype: int64\n",
      "doesn&rsquo;t have kids                                7560\n",
      "doesn&rsquo;t have kids, but might want them           3875\n",
      "doesn&rsquo;t have kids, but wants them                3565\n",
      "doesn&rsquo;t want kids                                2927\n",
      "has kids                                               1883\n",
      "has a kid                                              1881\n",
      "doesn&rsquo;t have kids, and doesn&rsquo;t want any    1132\n",
      "has kids, but doesn&rsquo;t want more                   442\n",
      "has a kid, but doesn&rsquo;t want more                  275\n",
      "has a kid, and might want more                          231\n",
      "wants kids                                              225\n",
      "might want kids                                         182\n",
      "has kids, and might want more                           115\n",
      "has a kid, and wants more                                71\n",
      "has kids, and wants more                                 21\n",
      "Name: offspring, dtype: int64\n",
      "straight    51606\n",
      "gay          5573\n",
      "bisexual     2767\n",
      "Name: orientation, dtype: int64\n",
      "likes dogs and likes cats          14814\n",
      "likes dogs                          7224\n",
      "likes dogs and has cats             4313\n",
      "has dogs                            4134\n",
      "has dogs and likes cats             2333\n",
      "likes dogs and dislikes cats        2029\n",
      "has dogs and has cats               1474\n",
      "has cats                            1406\n",
      "likes cats                          1063\n",
      "has dogs and dislikes cats           552\n",
      "dislikes dogs and likes cats         240\n",
      "dislikes dogs and dislikes cats      196\n",
      "dislikes cats                        122\n",
      "dislikes dogs and has cats            81\n",
      "dislikes dogs                         44\n",
      "Name: pets, dtype: int64\n",
      "agnosticism                                   2724\n",
      "other                                         2691\n",
      "agnosticism but not too serious about it      2636\n",
      "agnosticism and laughing about it             2496\n",
      "catholicism but not too serious about it      2318\n",
      "atheism                                       2175\n",
      "other and laughing about it                   2119\n",
      "atheism and laughing about it                 2074\n",
      "christianity                                  1957\n",
      "christianity but not too serious about it     1952\n",
      "other but not too serious about it            1554\n",
      "judaism but not too serious about it          1517\n",
      "atheism but not too serious about it          1318\n",
      "catholicism                                   1064\n",
      "christianity and somewhat serious about it     927\n",
      "atheism and somewhat serious about it          848\n",
      "other and somewhat serious about it            846\n",
      "catholicism and laughing about it              726\n",
      "judaism and laughing about it                  681\n",
      "buddhism but not too serious about it          650\n",
      "agnosticism and somewhat serious about it      642\n",
      "judaism                                        612\n",
      "christianity and very serious about it         578\n",
      "atheism and very serious about it              570\n",
      "catholicism and somewhat serious about it      548\n",
      "other and very serious about it                533\n",
      "buddhism and laughing about it                 466\n",
      "buddhism                                       403\n",
      "christianity and laughing about it             373\n",
      "buddhism and somewhat serious about it         359\n",
      "agnosticism and very serious about it          314\n",
      "judaism and somewhat serious about it          266\n",
      "hinduism but not too serious about it          227\n",
      "hinduism                                       107\n",
      "catholicism and very serious about it          102\n",
      "buddhism and very serious about it              70\n",
      "hinduism and somewhat serious about it          58\n",
      "islam                                           48\n",
      "hinduism and laughing about it                  44\n",
      "islam but not too serious about it              40\n",
      "islam and somewhat serious about it             22\n",
      "judaism and very serious about it               22\n",
      "islam and laughing about it                     16\n",
      "hinduism and very serious about it              14\n",
      "islam and very serious about it                 13\n",
      "Name: religion, dtype: int64\n",
      "m    35829\n",
      "f    24117\n",
      "Name: sex, dtype: int64\n",
      "gemini and it&rsquo;s fun to think about         1782\n",
      "scorpio and it&rsquo;s fun to think about        1772\n",
      "leo and it&rsquo;s fun to think about            1692\n",
      "libra and it&rsquo;s fun to think about          1649\n",
      "taurus and it&rsquo;s fun to think about         1640\n",
      "cancer and it&rsquo;s fun to think about         1597\n",
      "pisces and it&rsquo;s fun to think about         1592\n",
      "sagittarius and it&rsquo;s fun to think about    1583\n",
      "virgo and it&rsquo;s fun to think about          1574\n",
      "aries and it&rsquo;s fun to think about          1573\n",
      "aquarius and it&rsquo;s fun to think about       1503\n",
      "virgo but it doesn&rsquo;t matter                1497\n",
      "leo but it doesn&rsquo;t matter                  1457\n",
      "cancer but it doesn&rsquo;t matter               1454\n",
      "gemini but it doesn&rsquo;t matter               1453\n",
      "taurus but it doesn&rsquo;t matter               1450\n",
      "aquarius but it doesn&rsquo;t matter             1408\n",
      "libra but it doesn&rsquo;t matter                1408\n",
      "capricorn and it&rsquo;s fun to think about      1376\n",
      "sagittarius but it doesn&rsquo;t matter          1375\n",
      "aries but it doesn&rsquo;t matter                1373\n",
      "capricorn but it doesn&rsquo;t matter            1319\n",
      "pisces but it doesn&rsquo;t matter               1300\n",
      "scorpio but it doesn&rsquo;t matter              1264\n",
      "leo                                              1159\n",
      "libra                                            1098\n",
      "cancer                                           1092\n",
      "virgo                                            1029\n",
      "scorpio                                          1020\n",
      "gemini                                           1013\n",
      "taurus                                           1001\n",
      "aries                                             996\n",
      "pisces                                            992\n",
      "aquarius                                          954\n",
      "sagittarius                                       937\n",
      "capricorn                                         833\n",
      "scorpio and it matters a lot                       78\n",
      "leo and it matters a lot                           66\n",
      "cancer and it matters a lot                        63\n",
      "aquarius and it matters a lot                      63\n",
      "pisces and it matters a lot                        62\n",
      "gemini and it matters a lot                        62\n",
      "libra and it matters a lot                         52\n",
      "taurus and it matters a lot                        49\n",
      "aries and it matters a lot                         47\n",
      "sagittarius and it matters a lot                   47\n",
      "capricorn and it matters a lot                     45\n",
      "virgo and it matters a lot                         41\n",
      "Name: sign, dtype: int64\n",
      "no                43896\n",
      "sometimes          3787\n",
      "when drinking      3040\n",
      "yes                2231\n",
      "trying to quit     1480\n",
      "Name: smokes, dtype: int64\n",
      "english                                                                          21828\n",
      "english (fluently)                                                                6628\n",
      "english (fluently), spanish (poorly)                                              2059\n",
      "english (fluently), spanish (okay)                                                1917\n",
      "english (fluently), spanish (fluently)                                            1288\n",
      "                                                                                 ...  \n",
      "english, other (okay), spanish (okay), french (poorly)                               1\n",
      "english, farsi, french (okay), spanish (okay)                                        1\n",
      "english, portuguese (okay), french (poorly), german (poorly), spanish (okay)         1\n",
      "english (fluently), russian (fluently), spanish (okay), lithuanian (fluently)        1\n",
      "english, french (okay), spanish (okay), italian (poorly), arabic (poorly)            1\n",
      "Name: speaks, Length: 7647, dtype: int64\n",
      "single            55697\n",
      "seeing someone     2064\n",
      "available          1865\n",
      "married             310\n",
      "unknown              10\n",
      "Name: status, dtype: int64\n",
      "2012-06-29-22-56    24\n",
      "2012-06-30-22-09    23\n",
      "2012-06-30-22-56    23\n",
      "2012-06-30-23-27    23\n",
      "2012-06-30-21-51    23\n",
      "                    ..\n",
      "2011-10-17-19-09     1\n",
      "2012-05-01-19-02     1\n",
      "2012-05-08-14-40     1\n",
      "2012-06-04-00-52     1\n",
      "2012-05-30-18-58     1\n",
      "Name: last_online, Length: 30123, dtype: int64\n",
      "                age        height          income\n",
      "count  59946.000000  59943.000000    59946.000000\n",
      "mean      32.340290     68.295281    20033.222534\n",
      "std        9.452779      3.994803    97346.192104\n",
      "min       18.000000      1.000000       -1.000000\n",
      "25%       26.000000     66.000000       -1.000000\n",
      "50%       30.000000     68.000000       -1.000000\n",
      "75%       37.000000     71.000000       -1.000000\n",
      "max      110.000000     95.000000  1000000.000000\n"
     ]
    },
    {
     "name": "stdout",
     "output_type": "stream",
     "text": [
      "income         80.81\n",
      "offspring      59.32\n",
      "diet           40.69\n",
      "religion       33.74\n",
      "pets           33.23\n",
      "essay8         32.07\n",
      "drugs          23.49\n",
      "essay6         22.97\n",
      "essay9         21.02\n",
      "essay7         20.77\n",
      "essay3         19.14\n",
      "sign           18.44\n",
      "essay5         18.10\n",
      "essay4         17.58\n",
      "essay2         16.08\n",
      "job            13.68\n",
      "essay1         12.63\n",
      "education      11.06\n",
      "ethnicity       9.48\n",
      "smokes          9.19\n",
      "essay0          9.15\n",
      "body_type       8.83\n",
      "drinks          4.98\n",
      "speaks          0.08\n",
      "height          0.01\n",
      "sex             0.00\n",
      "age             0.00\n",
      "orientation     0.00\n",
      "location        0.00\n",
      "last_online     0.00\n",
      "status          0.00\n",
      "dtype: float64\n"
     ]
    }
   ],
   "source": [
    "# print value counts for each of the categorical variables\n",
    "print(profiles.body_type.value_counts())\n",
    "print(profiles.diet.value_counts())\n",
    "print(profiles.drinks.value_counts())\n",
    "print(profiles.drugs.value_counts())\n",
    "print(profiles.education.value_counts())\n",
    "print(profiles.ethnicity.value_counts())\n",
    "print(profiles.job.value_counts())\n",
    "print(profiles.offspring.value_counts())\n",
    "print(profiles.orientation.value_counts())\n",
    "print(profiles.pets.value_counts())\n",
    "print(profiles.religion.value_counts())\n",
    "print(profiles.sex.value_counts())\n",
    "print(profiles.sign.value_counts())\n",
    "print(profiles.smokes.value_counts())\n",
    "print(profiles.speaks.value_counts())\n",
    "print(profiles.status.value_counts())\n",
    "print(profiles.last_online.value_counts())\n",
    "\n",
    "# print descriptive stats for numeric variables\n",
    "print(profiles.describe())\n",
    "\n",
    "# replace income values that are -1 to None.\n",
    "profiles.income = profiles.income.replace({-1: None})\n",
    "\n",
    "# helper method to quantify percentage of missingness\n",
    "def percent_missing(df):\n",
    "    print((100*df.isna().sum().sort_values(ascending=False)/len(df)).round(2))\n",
    "    \n",
    "# show missing percents    \n",
    "percent_missing(profiles)    "
   ]
  },
  {
   "cell_type": "markdown",
   "metadata": {},
   "source": [
    "## Data Summary:\n",
    "Profiles consists of 31 columns and 59449 rows. Column content and missingness are discussed below.\n",
    "**The columns in the dataset include:**\n",
    "- age: continuous variable of age of user\n",
    "- body_type: nominal variable of body type of user (12 categories)\n",
    "- diet: nominal variable of dietary information (5 main categories with strictly and mostly modifiers)\n",
    "- drinks: ordinal variable of alcohol consumption (not at all - desperately)\n",
    "- drugs: ordinal variable of drug usage (never - often)\n",
    "- education: ordinal variable of educational attainment; will transform to (drop out of highschool - graduate degree+)\n",
    "- ethnicity: nominal variable of ethnic backgrounds (217 combinations)\n",
    "- height: continuous variable of height of user\n",
    "- income: continuous variable of income of user\n",
    "- job: nominal variable of employment description (will convert to binary target, STEM = 1 and Other = 0)\n",
    "- offspring: nominal variable of children status. Describes current count (0, 1, 2+) and desire for more children.\n",
    "- orientation: nominal variable of sexual orientation (straight, bi, gay)\n",
    "- pets: nominal variable of pet ownership/preferences for dogs and cats\n",
    "- religion: nominal variable with ordinal modifier of religious background (8 main categories, laughing about it - very serious)\n",
    "- sex: nominal variable of gender (m or f)\n",
    "- sign: nominal variable of astrological symbol with ordinal modifier (12 categories, it doesn't matter - it matters a lot)\n",
    "- smokes: ordinal variable of smoking consumption (5 categories, no - yes)\n",
    "- speaks: nominal variable of language(s) spoken with fluency modifier (7647 unique combinations)\n",
    "- status: nominal variable of relationship status (5 categories)\n",
    "- last_online: date variable of last login (YYYY-MM-DD-HH-MM); not useful for prediction, but data is circa mid-2012.\n",
    "- location: categorical variable of user locations (199 unique city, state)\n",
    "\n",
    "**And a set of open short-answer responses to :**\n",
    "- essay0: My self summary\n",
    "- essay1: What I’m doing with my life\n",
    "- essay2: I’m really good at\n",
    "- essay3: The first thing people usually notice about me\n",
    "- essay4: Favorite books, movies, show, music, and food\n",
    "- essay5: The six things I could never do without\n",
    "- essay6: I spend a lot of time thinking about\n",
    "- essay7: On a typical Friday night I am\n",
    "- essay8: The most private thing I am willing to admit\n",
    "- essay9: You should message me if…\n",
    "\n",
    "**Percent of Missingness by Column:**\n",
    "    \n",
    "     income      80.81\n",
    "     offspring   59.32\n",
    "     diet        40.69\n",
    "     religion    33.74\n",
    "     pets        33.23\n",
    "     essay8      32.07\n",
    "     drugs       23.49\n",
    "     essay6      22.97\n",
    "     essay9      21.02\n",
    "     essay7      20.77\n",
    "     essay3      19.14\n",
    "     sign        18.44\n",
    "     essay5      18.10\n",
    "     essay4      17.58\n",
    "     essay2      16.08\n",
    "     job         13.68\n",
    "     essay1      12.63\n",
    "     education   11.06\n",
    "     ethnicity   9.48\n",
    "     smokes      9.19\n",
    "     essay0      9.15\n",
    "     body_type   8.83\n",
    "     drinks      4.98\n",
    "     speaks      0.08\n",
    "     height      0.01\n",
    "     sex         0.00\n",
    "     age         0.00\n",
    "     orientation 0.00\n",
    "     location    0.00\n",
    "     last_online 0.00\n",
    "     status      0.00\n",
    "     \n",
    "## Data Exploration, Transformation and Feature Extraction:\n",
    "### Creating the Target\n",
    "All rows with a null value for 'job' were dropped leaving 51,748 total. A new column was created to represent the target variable for STEM jobs. Any users that answered 'science / tech / engineering', 'computer / hardware / software', or 'medicine / health' were considered to work in the STEM field. The target class represents ~25.6% of the sample, which means it is moderately imbalanced. If I downsample the non-STEM examples, there will be a loss of data about non-STEM users that could potentially hurt the model performance. Conversely, oversampling the minority can lead to overfitting and poor future performance of the model. During model training, various techniques for oversampling the miniority class (SMOTE, BorderlineSMOTE, SMOTEN) and undersampling (RandomUnderSampling) the majority class will be empirically evaluated."
   ]
  },
  {
   "cell_type": "code",
   "execution_count": 4,
   "metadata": {},
   "outputs": [
    {
     "name": "stdout",
     "output_type": "stream",
     "text": [
      "51748\n",
      "0.25579732550050244\n"
     ]
    }
   ],
   "source": [
    "# drop any rows with null values for job\n",
    "profiles = profiles[profiles['job'].notna()].reset_index()\n",
    "\n",
    "# check new length of dataframe (OUTPUT: 51748)\n",
    "print(len(profiles))\n",
    "\n",
    "# create a list of values for STEM field jobs\n",
    "STEM_list = ['science / tech / engineering', 'computer / hardware / software', 'medicine / health']\n",
    "\n",
    "# create new column 'STEM' to hold binary target variable. 1 = STEM field job\n",
    "profiles['STEM'] = profiles.apply(lambda row: 1 if row['job'] in STEM_list else 0, axis=1)\n",
    "\n",
    "# check for target class balance\n",
    "print(profiles.STEM.sum()/len(profiles))\n",
    "# target is about 25.6%, which is moderately imbalanced. Consider resampling STEM jobs or downsampling non-STEM"
   ]
  },
  {
   "cell_type": "markdown",
   "metadata": {},
   "source": [
    "### Cleaning and Prepping for Analysis\n",
    "- age: no treatment\n",
    "- body_type: fillna with 'unknown'\n",
    "- body_image: new ordinal column scaled 0-4 based on positivity of body_type description; null will be a neutral 2"
   ]
  },
  {
   "cell_type": "code",
   "execution_count": 5,
   "metadata": {},
   "outputs": [],
   "source": [
    "# body_type fillna() with unknown\n",
    "profiles.body_type = profiles.body_type.fillna('unknown')\n",
    "\n",
    "# helper method to assign body_image based on body_type\n",
    "def get_body_image(body_type):\n",
    "    \n",
    "    if body_type == 'overweight' or body_type == 'used up':\n",
    "        return 0\n",
    "    elif body_type == 'skinny' or body_type == 'a little extra':\n",
    "        return 1\n",
    "    elif body_type == 'thin' or body_type == 'full figured':\n",
    "        return 3\n",
    "    elif body_type == 'fit' or body_type == 'athletic' or body_type == 'jacked' or body_type == 'curvy':\n",
    "        return 4\n",
    "    else:\n",
    "        return 2\n",
    "\n",
    "# create body_image column\n",
    "profiles['body_image'] = profiles.apply(lambda row: get_body_image(row['body_type']), axis=1)"
   ]
  },
  {
   "cell_type": "markdown",
   "metadata": {},
   "source": [
    "- diet: convert to just the five main categories and fillna with 'unknown'\n",
    "- diet_modifier: new ordinal column (0= no modifier, 1 = mostly, 2= strictly)"
   ]
  },
  {
   "cell_type": "code",
   "execution_count": 6,
   "metadata": {},
   "outputs": [],
   "source": [
    "# diet fillna() with unknown\n",
    "profiles.diet = profiles.diet.fillna('unknown')\n",
    "\n",
    "# helper method to create a tuple from the diet category and modifier of 'mostly' or 'strictly'\n",
    "def get_diet_mod(diet_str):\n",
    "    mod_map = {'mostly': 1,\n",
    "               'strictly': 2}\n",
    "    \n",
    "    if ' ' not in diet_str:\n",
    "        diet_mod = (diet_str, 0)\n",
    "    else:\n",
    "        modifier = diet_str.split(' ', 1)[0]\n",
    "        diet = diet_str.split(' ', 1)[1]\n",
    "        mod = mod_map[modifier]\n",
    "        diet_mod = (diet, mod)\n",
    "    \n",
    "    return diet_mod\n",
    "\n",
    "# create diet_modifier column\n",
    "profiles['diet_modifier'] = profiles.apply(lambda row: get_diet_mod(row['diet'])[1], axis=1)\n",
    "\n",
    "# convert diet to just main categories\n",
    "profiles['diet'] = profiles.apply(lambda row: get_diet_mod(row['diet'])[0], axis=1)"
   ]
  },
  {
   "cell_type": "markdown",
   "metadata": {},
   "source": [
    "- drinks: fillna with 'unknown'\n",
    "- drugs: fillna with 'unknown'"
   ]
  },
  {
   "cell_type": "code",
   "execution_count": 7,
   "metadata": {},
   "outputs": [],
   "source": [
    "# drinks fillna() with unknown\n",
    "profiles.drinks = profiles.drinks.fillna('unknown')\n",
    "\n",
    "# drugs fillna() with unknown\n",
    "profiles.drugs = profiles.drugs.fillna('unknown')"
   ]
  },
  {
   "cell_type": "markdown",
   "metadata": {},
   "source": [
    "- education: fillna with 'unknown'\n",
    "- education_level: ordinal (drop out of highschool - graduated with doctorate)"
   ]
  },
  {
   "cell_type": "code",
   "execution_count": 8,
   "metadata": {},
   "outputs": [],
   "source": [
    "# education fillna() with unknown\n",
    "profiles.education = profiles.education.fillna('unknown')\n",
    "\n",
    "# helper method to retrieve ecucation_level from education\n",
    "def get_ed_level(edu_str):\n",
    "    ed_level = 0\n",
    "    \n",
    "    # 5 if in ph.d or med school\n",
    "    if 'ph.d' in edu_str:\n",
    "        ed_level = 5\n",
    "    elif 'med' in edu_str:\n",
    "        ed_level = 5\n",
    "    # 5 if masters and graduated, else 4     \n",
    "    elif 'masters' in edu_str:\n",
    "        if 'graduated' in edu_str:\n",
    "            ed_level = 5\n",
    "        else:\n",
    "            ed_level = 4\n",
    "    # 5 if law and graduated, else 4     \n",
    "    elif 'law' in edu_str:\n",
    "        if 'graduated' in edu_str:\n",
    "            ed_level = 5\n",
    "        else:\n",
    "            ed_level = 4\n",
    "    # 4 if university and graduated, else 3        \n",
    "    elif 'university' in edu_str:\n",
    "        if 'graduated' in edu_str:\n",
    "            ed_level = 4\n",
    "        else:\n",
    "            ed_level = 3    \n",
    "    # 3 if two-year and graduated, else 2        \n",
    "    elif 'two-year' in edu_str:\n",
    "        if 'graduated' in edu_str:\n",
    "            ed_level = 3\n",
    "        else:\n",
    "            ed_level = 2\n",
    "    # 2 if high school and graduated, else 1        \n",
    "    elif 'high school' in edu_str:\n",
    "        if 'graduated' in edu_str:\n",
    "            ed_level = 2\n",
    "        else:\n",
    "            ed_level = 1\n",
    "    \n",
    "    return ed_level\n",
    "\n",
    "# create education_level column\n",
    "profiles['education_level'] = profiles.apply(lambda row: get_ed_level(row['education']), axis=1)"
   ]
  },
  {
   "cell_type": "markdown",
   "metadata": {},
   "source": [
    "- ethnicity: fillna with 'unknown'; create categories based on those in data: 'white', 'black', 'hispanic / latin', 'pacific islander', 'native american', 'middle eastern', 'indian', 'asian', 'other', '2 or more', 'unknown'"
   ]
  },
  {
   "cell_type": "code",
   "execution_count": 9,
   "metadata": {},
   "outputs": [],
   "source": [
    "# ethnicity fillna() with unknown\n",
    "profiles.ethnicity = profiles.ethnicity.fillna('unknown')\n",
    "\n",
    "# map major categories to themselves and all others which contain various combinations will become null\n",
    "profiles.ethnicity = profiles.ethnicity.map({'white': 'white', 'black': 'black',\\\n",
    "                                             'hispanic / latin': 'hispanic / latin',\\\n",
    "                                             'pacific islander': 'pacific islander',\\\n",
    "                                             'native american': 'native american',\\\n",
    "                                             'middle eastern': 'middle eastern',\\\n",
    "                                             'indian': 'indian', 'asian': 'asian',\\\n",
    "                                             'other': 'other', 'unknown': 'unknown'})\n",
    "\n",
    "# now use fillna() with '2 or more'\n",
    "profiles.ethnicity = profiles.ethnicity.fillna('2 or more')"
   ]
  },
  {
   "cell_type": "markdown",
   "metadata": {},
   "source": [
    "- height: drop the single na row \n",
    "- income: drop column from dataframe because >80% of users did not fill out the income\n",
    "- job: drop column from table because the target variable is directly derived from it"
   ]
  },
  {
   "cell_type": "code",
   "execution_count": 10,
   "metadata": {},
   "outputs": [],
   "source": [
    "# drop the single row where height is null \n",
    "profiles = profiles[profiles['height'].notna()].reset_index()\n",
    "\n",
    "# drop the income and jobs columns\n",
    "profiles.drop(['income', 'job'], inplace= True, axis=1)"
   ]
  },
  {
   "cell_type": "markdown",
   "metadata": {},
   "source": [
    "- offspring: change to 0 for none or unknown, 1 for one child, 2 for 2+ children\n",
    "- more_children: new ordinal, 2 if wants more kids, 1 if might want more, 0 if doesn't want more\n",
    "- orientation: no treatment"
   ]
  },
  {
   "cell_type": "code",
   "execution_count": 11,
   "metadata": {},
   "outputs": [],
   "source": [
    "# offspring fillna() with unknown\n",
    "profiles.offspring = profiles.offspring.fillna('unknown')\n",
    "\n",
    "# helper method to get preference for more children\n",
    "def get_more_children_preference(child_str):\n",
    "    preference = 0\n",
    "    \n",
    "    if 'wants' in child_str:\n",
    "        preference = 2\n",
    "    elif 'might want' in child_str:\n",
    "        preference = 1\n",
    "        \n",
    "    return preference\n",
    "\n",
    "# make more_children column\n",
    "profiles['more_children'] = profiles.apply(lambda row: get_more_children_preference(row['offspring']), axis=1)\n",
    "\n",
    "# helper method to count number of children\n",
    "def get_child_count(child_str):\n",
    "    count = 0\n",
    "    \n",
    "    if 'has kids' in child_str:\n",
    "        count = 2\n",
    "    elif 'has a kid' in child_str:\n",
    "        count = 1\n",
    "    \n",
    "    return count\n",
    "# convert offspring column to ordinal for children count\n",
    "profiles['offspring'] = profiles.apply(lambda row: get_child_count(row['offspring']), axis=1)"
   ]
  },
  {
   "cell_type": "markdown",
   "metadata": {},
   "source": [
    "- pets: split into four boolean columns: has_dog, has_cat, wants_dog, wants_cat; unknowns will all be 0; drop pets column"
   ]
  },
  {
   "cell_type": "code",
   "execution_count": 12,
   "metadata": {},
   "outputs": [],
   "source": [
    "# pets fillna() with unknown\n",
    "profiles.pets = profiles.pets.fillna('unknown')\n",
    "\n",
    "# helper method for extracting dog preference\n",
    "def get_likes_dogs(pet_str):\n",
    "    \n",
    "    if 'dislikes dogs' in pet_str:\n",
    "        return 0\n",
    "    elif 'dogs' in pet_str:\n",
    "        return 1\n",
    "    else:\n",
    "        return 0\n",
    "\n",
    "# create boolean column for likes_dogs    \n",
    "profiles['likes_dogs'] = profiles.apply(lambda row: get_likes_dogs(row['pets']), axis=1)\n",
    "\n",
    "# helper method for extracting cat preference\n",
    "def get_likes_cats(pet_str):\n",
    "    \n",
    "    if 'dislikes cats' in pet_str:\n",
    "        return 0\n",
    "    elif 'cats' in pet_str:\n",
    "        return 1\n",
    "    else:\n",
    "        return 0\n",
    "\n",
    "# create boolean column for likes_cats     \n",
    "profiles['likes_cats'] = profiles.apply(lambda row: get_likes_cats(row['pets']), axis=1)    \n",
    "\n",
    "# helper method for extracting dog ownership\n",
    "def get_has_dogs(pet_str):\n",
    "    \n",
    "    if 'has dogs' in pet_str:\n",
    "        return 1\n",
    "    else:\n",
    "        return 0\n",
    "\n",
    "# create boolean column for has_dogs \n",
    "profiles['has_dogs'] = profiles.apply(lambda row: get_has_dogs(row['pets']), axis=1)      \n",
    "\n",
    "# helper method for extracting cat ownership\n",
    "def get_has_cats(pet_str):\n",
    "    \n",
    "    if 'has cats' in pet_str:\n",
    "        return 1\n",
    "    else:\n",
    "        return 0\n",
    "\n",
    "# create boolean column for has_cats     \n",
    "profiles['has_cats'] = profiles.apply(lambda row: get_has_cats(row['pets']), axis=1) \n",
    "\n",
    "# drop the pets column\n",
    "profiles.drop(['pets'], inplace= True, axis=1)"
   ]
  },
  {
   "cell_type": "markdown",
   "metadata": {},
   "source": [
    "- religion: nominal variable with ordinal modifier of religious background (8 main categories, laughing about it - very serious)\n",
    "- sex: no treatment"
   ]
  },
  {
   "cell_type": "code",
   "execution_count": 13,
   "metadata": {},
   "outputs": [],
   "source": [
    "# religion fillna() with unknown\n",
    "profiles.religion = profiles.religion.fillna('unknown')\n",
    "\n",
    "# helper method to extract religion modifier score\n",
    "def get_religion_mod(rel_str):\n",
    "    \n",
    "    if 'unknown' in rel_str:\n",
    "        mod = 0\n",
    "    elif 'laughing' in rel_str:\n",
    "        mod = 0\n",
    "    elif 'too' in rel_str:\n",
    "        mod = 1\n",
    "    elif 'somewhat' in rel_str:\n",
    "        mod = 3\n",
    "    elif 'very' in rel_str:\n",
    "        mod = 4\n",
    "    else:\n",
    "        mod = 2\n",
    "    \n",
    "    return mod\n",
    "\n",
    "# create religion_mod column, 0:unknown or laughing, 1:not too serious, 2:No modifier, 3:somewhat serious, 4:very serious\n",
    "profiles['religion_mod'] = profiles.apply(lambda row: get_religion_mod(row['religion']), axis=1) \n",
    "\n",
    "# helper method to extract just the religion\n",
    "def get_religion(rel_str):\n",
    "    return rel_str.split(' ', 1)[0]\n",
    "\n",
    "# convert religion column to religion only\n",
    "profiles['religion'] = profiles.apply(lambda row: get_religion(row['religion']), axis=1)"
   ]
  },
  {
   "cell_type": "markdown",
   "metadata": {},
   "source": [
    "- sign: fillna with 'unknown'. Convert to 12 main categories and unknown.\n",
    "- sign_mod: new ordinal for sentiment towards astrological signs"
   ]
  },
  {
   "cell_type": "code",
   "execution_count": 14,
   "metadata": {},
   "outputs": [],
   "source": [
    "# sign fillna() with unknown\n",
    "profiles.sign = profiles.sign.fillna('unknown')\n",
    "\n",
    "# helper to extract astrological sign sentiments\n",
    "def get_sign_mod(sign_str):\n",
    "    \n",
    "    if 'unknown' in sign_str:\n",
    "        mod = 0\n",
    "    elif 'doesn' in sign_str:\n",
    "        mod = 0\n",
    "    elif 'fun' in sign_str:\n",
    "        mod = 2\n",
    "    elif 'a lot' in sign_str:\n",
    "        mod = 3\n",
    "    else:\n",
    "        mod = 1\n",
    "    \n",
    "    return mod\n",
    "\n",
    "# create sign_mod column. 0:unknown or doesn't matter, 1:no modifier, 2:fun to think about, 3:it matters a lot\n",
    "profiles['sign_mod'] = profiles.apply(lambda row: get_sign_mod(row['sign']), axis=1) \n",
    "\n",
    "# helper method to extract just the sign\n",
    "def get_sign(rel_str):\n",
    "    return rel_str.split(' ', 1)[0]\n",
    "\n",
    "# convert sign column to religion only\n",
    "profiles['sign'] = profiles.apply(lambda row: get_sign(row['sign']), axis=1)"
   ]
  },
  {
   "cell_type": "markdown",
   "metadata": {},
   "source": [
    "- smokes: fillna with 'unknown'"
   ]
  },
  {
   "cell_type": "code",
   "execution_count": 15,
   "metadata": {},
   "outputs": [],
   "source": [
    "# smokes fillna() with unknown\n",
    "profiles.smokes = profiles.smokes.fillna('unknown')"
   ]
  },
  {
   "cell_type": "markdown",
   "metadata": {},
   "source": [
    "- speaks: fillna() with unknown; create columns for each of the languages spoken with ordinal variables based on fluency, 0:does not speak, 1:speaks poorly, 2:speaks okay, 3:speaks fluently or did not describe fluency\n",
    "- language_count: new column that shows number of languages spoken (regardless of fluency)"
   ]
  },
  {
   "cell_type": "code",
   "execution_count": 16,
   "metadata": {},
   "outputs": [
    {
     "name": "stdout",
     "output_type": "stream",
     "text": [
      "dict_keys(['english', 'fluently', 'spanish', 'poorly', 'french', 'german', 'chinese', 'okay', 'sign', 'language', 'italian', 'tagalog', 'japanese', 'other', 'thai', 'russian', 'dutch', 'lisp', 'indonesian', 'portuguese', 'belarusan', 'gujarati', 'farsi', 'hindi', 'sanskrit', 'afrikaans', 'khmer', 'hebrew', 'yiddish', 'polish', 'korean', 'persian', 'czech', 'croatian', 'bengali', 'vietnamese', 'esperanto', 'swahili', 'latin', 'swedish', 'norwegian', 'greek', 'ancient', 'albanian', 'icelandic', 'arabic', 'tibetan', 'cebuano', 'georgian', 'hawaiian', 'turkish', 'latvian', 'serbian', 'tamil', 'ukrainian', 'occitan', 'breton', 'catalan', 'urdu', 'hungarian', 'irish', 'unknown', 'romanian', 'finnish', 'bulgarian', 'welsh', 'danish', 'estonian', 'lithuanian', 'malay', 'ilongo', 'maori', 'frisian', 'chechen', 'slovenian', 'basque', 'mongolian', 'slovak', 'armenian', 'rotuman', 'sardinian'])\n"
     ]
    }
   ],
   "source": [
    "#speaks fillna() with unknown\n",
    "profiles.speaks = profiles.speaks.fillna('unknown')\n",
    "\n",
    "# import the count vectorizer from sklearn\n",
    "from sklearn.feature_extraction.text import CountVectorizer\n",
    "\n",
    "# use CountVectorizer to create a vocabulary list of words in profiles.speaks\n",
    "text = profiles.speaks\n",
    "cv = CountVectorizer()\n",
    "cv.fit_transform(text)\n",
    "\n",
    "# print out the words in the vocabulary of the CountVectorizer\n",
    "print(cv.vocabulary_.keys())\n",
    "\n",
    "# use vocab keys to build a comprehensive list of languages spoken\n",
    "# c++, sign language and fluency descriptors were removed\n",
    "lang_list = ['english', 'spanish', 'french', 'german', \n",
    "             'chinese', 'italian', 'tagalog', 'japanese', \n",
    "             'other', 'thai', 'russian', 'dutch', 'lisp', \n",
    "             'indonesian', 'portuguese', 'belarusan', \n",
    "             'gujarati', 'farsi', 'hindi', 'sanskrit', \n",
    "             'afrikaans', 'khmer', 'hebrew', 'yiddish', \n",
    "             'polish', 'korean', 'persian', 'czech', \n",
    "             'croatian', 'bengali', 'vietnamese', \n",
    "             'esperanto', 'swahili', 'latin', 'swedish', \n",
    "             'norwegian', 'greek', 'albanian', 'icelandic', \n",
    "             'arabic', 'tibetan', 'cebuano', 'georgian', \n",
    "             'hawaiian', 'turkish', 'latvian', 'serbian', \n",
    "             'tamil', 'ukrainian', 'occitan', 'breton', \n",
    "             'catalan', 'urdu', 'hungarian', 'irish', \n",
    "             'romanian', 'finnish', 'bulgarian', \n",
    "             'welsh', 'danish', 'estonian', 'lithuanian', \n",
    "             'malay', 'ilongo', 'maori', 'frisian', 'chechen', \n",
    "             'slovenian', 'basque', 'mongolian', 'slovak', \n",
    "             'armenian', 'rotuman', 'sardinian']\n",
    "\n",
    "# helper method to get a user's languages fluency given a language and the 'speaks' column string\n",
    "def get_lang_fluency(lang, lang_str):\n",
    "    if lang not in lang_str:\n",
    "        return 0\n",
    "    elif lang + ' (poorly)' in lang_str:\n",
    "        return 1\n",
    "    elif lang + ' (okay)' in lang_str:\n",
    "        return 2\n",
    "    else:\n",
    "        return 3\n",
    "    \n",
    "# loop through languages list and create a new column for fluency in that language\n",
    "for lang in lang_list:\n",
    "    profiles[lang] = profiles.apply(lambda row: get_lang_fluency(lang, row['speaks']), axis=1)\n",
    "\n",
    "# add columns for sign_language and C_plus_plus\n",
    "profiles['sign_language'] = profiles.apply(lambda row: get_lang_fluency('sign language', row['speaks']), axis=1)\n",
    "profiles['C_plus_plus'] = profiles.apply(lambda row: get_lang_fluency('c++', row['speaks']), axis=1)\n",
    "\n",
    "# count commas in each row of profiles.speaks and add 1. this is the number of languages spoken\n",
    "# store this count in a new column, language_count\n",
    "profiles['language_count'] = profiles.apply(lambda row: row['speaks'].count(',') + 1, axis=1)"
   ]
  },
  {
   "cell_type": "markdown",
   "metadata": {},
   "source": [
    "- status: no treatment\n",
    "- last_online: no treatment\n",
    "- location: using a cutoff of 100 users, create dummy variables for each city"
   ]
  },
  {
   "cell_type": "code",
   "execution_count": 17,
   "metadata": {},
   "outputs": [],
   "source": [
    "# the top 41 value_counts() in profiles all have at least 100 users\n",
    "# store these in a list, city_list\n",
    "city_list = profiles.location.value_counts()[0:41].index.tolist()\n",
    "\n",
    "# helper method that checks for location in city_list\n",
    "# if it is there, returns just the city by splitting on the ',' in the string\n",
    "# else, it returns 'other'\n",
    "def truncate_location(loc_str):\n",
    "    if loc_str in city_list:\n",
    "        return loc_str.split(',', 1)[0]\n",
    "    else:\n",
    "        return 'other'\n",
    "\n",
    "# create new column 'city' that is truncated locations\n",
    "profiles['city'] = profiles.apply(lambda row: truncate_location(row['location']), axis=1)"
   ]
  },
  {
   "cell_type": "markdown",
   "metadata": {},
   "source": [
    "## Natural Language Processing:\n",
    "### Preprocessing Text\n",
    "1. Import libraries from nltk, the Natural Language Toolkit.\n",
    "2. Collect document column names into a list.\n",
    "3. Replace null documents with empty strings.\n",
    "4. Convert text to lowercase and remove punctuation. \n",
    "5. Combine all text columns into one column, the corpus with each row representing a document.\n",
    "\n",
    "At this point the number of unique words in the corpus was exceptionally large, 148,517 as seen with value_counts(). The more common a word in the corpus, the less predictive power it will have. Also, if it is too rare, the word will not be prevalent enough to train the model. A threshold of at least 50 occurrences in the corpus was chosen as a minimum. Additionally, the 100 most common words were eliminated as stop words. This reduced the corpus vocabulary to 13,507 words, which is much more manageable. To save on processing time, a whitelist of the 13,507 word vocabulary was used. A stop_word list was ten times as long and would have taken roughly ten times the processing time. \n",
    "\n",
    "6. Remove common and rare words.\n",
    "7. Split document into word tokens.\n",
    "8. Lemmatize word tokens by converting words to their common root. Most accurate when done with the words part of speech. An example: 'are', 'is' and 'will' become 'be' after lemmatization. This helps reduce the overall vocabulary size.\n",
    "\n",
    "**Note:** Steps 4 and 6-8 could have been handled by CountVectorizer() with default/custom settings for stop_words and lemmatization with a smaller collection of data. With one this size, I received a memory usage error.\n"
   ]
  },
  {
   "cell_type": "code",
   "execution_count": 18,
   "metadata": {},
   "outputs": [],
   "source": [
    "# load libraries for NLP\n",
    "import nltk, re\n",
    "from nltk.corpus import wordnet\n",
    "from nltk.tokenize import word_tokenize\n",
    "from nltk.stem import WordNetLemmatizer\n",
    "from collections import Counter\n",
    "\n",
    "# create list of essay columns\n",
    "essays = ['essay0', 'essay1', 'essay2', 'essay3', 'essay4',\\\n",
    "          'essay5', 'essay6', 'essay7', 'essay8', 'essay9']\n",
    "\n",
    "# fill in null essays with empty strings\n",
    "profiles[essays] = profiles[essays].replace(np.nan, '', regex= True)\n",
    "\n",
    "# convert all text to lowercase, remove punctuation\n",
    "for essay in essays:\n",
    "    profiles[essay] = profiles[essay].apply(lambda x: ' '.join(x.lower() for x in x.split()))\n",
    "    profiles[essay] = profiles[essay].str.replace('[^\\w\\s]',' ', regex=True)\n",
    "\n",
    "# combine all essay column text in a new column 'all_essays'\n",
    "profiles['all_essays'] = profiles[essays].apply(lambda x: ' '.join(x), axis= 1)\n",
    "\n",
    "# find somewhat common words (occurence rate of >50, but not the 100 most common in corpus)\n",
    "white_list_words = pd.Series(' '.join(profiles['all_essays'])\\\n",
    "                       .split()).value_counts()[100:]\\\n",
    "                        .loc[lambda x: x > 50].index.tolist()\n",
    "\n",
    "# this step is resource intensive. checks each word in all_essays against the whitelist of 13507.\n",
    "# a stopword list with the 100 most frequent and the words with term frequencies < 50 was 135010 terms long.\n",
    "# in this case, checking against a white list is 10x faster\n",
    "profiles['all_essays'] = profiles['all_essays'].apply(lambda x: ' '.join(x for x in x.split() if x in white_list_words))\n",
    "\n",
    "# create a lemmatizer object\n",
    "normalizer = WordNetLemmatizer()\n",
    "\n",
    "# helper method to retrieve most likely part of speech for a word\n",
    "def get_part_of_speech(word):\n",
    "    # retrieve parts of speech from wordnet.synsets()\n",
    "    probable_part_of_speech = wordnet.synsets(word)\n",
    "    \n",
    "    # create counter object\n",
    "    pos_counts = Counter()\n",
    "    \n",
    "    # count parts of speech\n",
    "    pos_counts['n'] = len([item for item in probable_part_of_speech if item.pos()=='n'])\n",
    "    pos_counts['v'] = len([item for item in probable_part_of_speech if item.pos()=='v'])\n",
    "    pos_counts['a'] = len([item for item in probable_part_of_speech if item.pos()=='a'])\n",
    "    pos_counts['r'] = len([item for item in probable_part_of_speech if item.pos()=='r'])\n",
    "    \n",
    "    # assign part of speech to the most common\n",
    "    most_likely_part_of_speech = pos_counts.most_common(1)[0][0]\n",
    "    \n",
    "    return most_likely_part_of_speech\n",
    "\n",
    "# helper method to preprocess text and return a lemmatized list of words\n",
    "def preprocess_text(text):\n",
    "    # remove non-word characters and spaces, convert to lower-case\n",
    "    cleaned = re.sub(r'\\W+', ' ', text).lower()\n",
    "    # create a tokenized list of words\n",
    "    tokenized = word_tokenize(text)\n",
    "    # lemmatize tokenized list with the part of speech fed to the lemmatizer\n",
    "    normalized = \" \".join([normalizer.lemmatize(token, get_part_of_speech(token)) for token in tokenized])\n",
    "    \n",
    "    return normalized\n",
    "\n",
    "# tokenize and lemmatize the words in all_essays\n",
    "profiles['all_essays'] = profiles.apply(lambda row: preprocess_text(row['all_essays']), axis= 1)\n"
   ]
  },
  {
   "cell_type": "markdown",
   "metadata": {},
   "source": [
    "### Extracting Keywords by Odds-Ratios Adjusted for False Discovery Rate Between STEM and nonSTEM Profiles\n",
    "\n",
    "The goal of this processing is to extract keywords that are particularly associated with one class over another using an odds-ratio. If the words are equally associated with each class the ratio is one. The higher above one, the more closely it is associated with STEM words. The closer the ratio gets to 0, the more it is associated with nonSTEM profiles.\n",
    "\n",
    "1. The profiles are divided based on the target variable.\n",
    "2. The CountVectorizer is used in binary mode to return if a vocabulary word is found in a user's combined essays document.\n",
    "3. This information is stored in a dataframe by each class.\n",
    "4. The binary row for each word is summed for the class. This equates to the number of profiles where that word occurs.\n",
    "5. The number from step 4 is subtracted from the total number of class profiles. This is the number of profiles that did not have that word.\n",
    "6. The dataframes for each class are combined using an inner join on the indexes (words).\n",
    "7. Between class odds-ratios and p-values for each word are computed with Fisher's exact test method from Scipy.stats.\n",
    "8. Because this is a test run thousands of times, there is a large risk of false-positives accumulating. To counteract a high false-positive rate, Benjamani-Hochberg correction for p-values was applied.\n",
    "9. A cutoff of a corrected p-value less than 1.0 x 10^-6 and an odds ratio greater than 2 or less than 0.5 was chosen to limit the keyword selection.\n",
    "\n",
    "**Interpretation:** Words where the interclass odds-ratio is greater than 2 indicate these words are at least twice as likely to occur in a STEM profile. Words where the interclass odds-ratio is less than 0.5 are twice as likely to occur in a non-STEM profile. A corrected p-value less than 1.0 x 10^-6 means that the probability of these odds-ratios occuring by chance alone are less than one in a million.\n",
    "\n",
    "**This 2x odds-ratio cutoff yielded 119 terms found in the lists below:**\n",
    "\n",
    "    103 STEM words:\n",
    "     \n",
    "    '_blank',        'algorithm',      'alto',         'anathem',         'android',  \n",
    "    'application',   'apps',           'artificial',   'asimov',          'bicycling', \n",
    "    'biomedical',    'biotech',        'bt',           'canada',          'clinic', \n",
    "    'clinical',      'cod',            'code',         'commute',         'computer', \n",
    "    'computing',     'coworkers',      'crossfit',     'cryptonomicon',   'data', \n",
    "    'database',      'developer',      'dna',          'electrical',      'electronics', \n",
    "    'emergency',     'ender',          'engineer',     'engineering',     'escher', \n",
    "    'feynman',       'fm',             'freakonomics', 'gadget',          'gattaca', \n",
    "    'geeky',         'gibson',         'hack',         'hacker',          'hardware', \n",
    "    'healthcare',    'heinlein',       'hospital',     'intp',            'javascript', \n",
    "    'lab',           'laser',          'linux',        'mechanical',      'medical', \n",
    "    'mit',           'mobile',         'molecular',    'neal',            'neuromancer', \n",
    "    'neuroscience',  'nofollow',       'nurse',        'orbital',         'palo', \n",
    "    'pediatric',     'pharmaceutical', 'physician',    'practitioner',    'pratchett',\n",
    "    'primer',        'programmer',     'programming',  'psychotherapist', 'register',\n",
    "    'rel',           'researcher',     'residency',    'rn',              'scientific',\n",
    "    'scientist',     'scifi',          'silicon',      'software',        'solar', \n",
    "    'soma',          'startup',        'stephenson',   'stross',          'tech', \n",
    "    'techie',        'technical',      'technician',   'technology',      'therapist', \n",
    "    'tinker',        'ucsf',           'ui',           'vernor',          'vinge', \n",
    "    'web',           'wikipedia',      'xkcd'\n",
    "        \n",
    "It appears to be a success. STEM words are associated with STEM professions, like 'rn' for Registered Nurse or 'developer'. They also play to popculture stereotypes. For example, STEM users talk about Neal Stephenson's books \"Anathem\" and \"Cryptonomicon\" and Sci-Fi authors Vernor Vinge and Charles Stross. They also mention noted physicist Richard Feynman and my personal favorite science themed webcomic, 'XKCD'. For exercise, they seem to enjoy 'bicycling' and 'crossfit'. \n",
    "\n",
    "    16 non-STEM words:\n",
    "     \n",
    "    'accounting',    'attorney',       'ba',           'credential', \n",
    "    'educator',      'elementary',     'homework',     'lawyer', \n",
    "    'mfa',           'nanny',          'retail',       'semester', \n",
    "    'sfsu',          'student',        'stylist',      'teacher'\n",
    "    \n",
    "\n",
    "\n",
    "Many nonSTEM profiles refer to nonSTEM professions, like 'attorney', 'accounting', 'nanny' and 'hairstylist'. They also refer to Arts education majors like 'BA' and 'MFA'. They also might still be a 'student' at 'SFSU'. \n",
    "\n",
    "Keywords associated with pop-culture will shift in prevalence with the changing popularity of topics in the populace. So while they are a good indicator for this data and time period, they will need to be reupdated if the model is to be used over time. The profession associated words will likely remain a more stable predictor in the long run.  "
   ]
  },
  {
   "cell_type": "code",
   "execution_count": 19,
   "metadata": {},
   "outputs": [],
   "source": [
    "from sklearn.feature_extraction.text import CountVectorizer\n",
    "\n",
    "# create subset of only STEM profiles and a document collection of only STEM profile essays\n",
    "STEM_data = profiles[profiles['STEM'] == 1]\n",
    "STEM_text_data = STEM_data['all_essays']\n",
    "\n",
    "# store number of STEM profiles for future calculations\n",
    "num_STEM = len(STEM_data)\n",
    "# create column headers for a dataframe to hold STEM profile binary-word counts. P=positive target class.\n",
    "STEM_profiles = [f\"P {i+1}\" for i in range(num_STEM)]\n",
    "\n",
    "# create a CountVectorizer object in binary mode. Fit_transform on STEM_text_data\n",
    "vectorizer = CountVectorizer(binary=True)\n",
    "STEM_vectors = vectorizer.fit_transform(STEM_text_data)\n",
    "\n",
    "# get the feature_names to act as row indexes in STEM_counts dataframe\n",
    "feature_names = vectorizer.get_feature_names()\n",
    "\n",
    "# transform the sparse matrix result from the CountVectorizer into a dataframe. \n",
    "# Rows= words, Columns= each profile, Values= binary for each term\n",
    "STEM_counts = pd.DataFrame(STEM_vectors.T.todense(), index=feature_names, columns=STEM_profiles) "
   ]
  },
  {
   "cell_type": "code",
   "execution_count": 20,
   "metadata": {},
   "outputs": [],
   "source": [
    "# create STEM_sum_pos column that is the number of STEM profiles that used a word\n",
    "STEM_counts['STEM_sum_pos'] = STEM_counts.apply(lambda x: np.sum(x[STEM_profiles]), axis=1)\n",
    "\n",
    "# create STEM_sum_neg column that is the number of STEM profiles that did not use a word\n",
    "STEM_counts['STEM_sum_neg'] = num_STEM - STEM_counts['STEM_sum_pos']\n",
    "\n",
    "# create nonSTEM subset and document collection\n",
    "nonSTEM_data = profiles[profiles['STEM'] == 0]\n",
    "nonSTEM_text_data = nonSTEM_data['all_essays']\n",
    "\n",
    "# store number of nonSTEM profiles for future calculations\n",
    "num_nonSTEM = len(nonSTEM_data)\n",
    "\n",
    "# create column headers. N= negative target class\n",
    "nonSTEM_profiles = [f\"N {i+1}\" for i in range(num_nonSTEM)]\n",
    "\n",
    "# transform nonSTEM_text_data with previously fit CountVectorizer object\n",
    "nonSTEM_vectors = vectorizer.transform(nonSTEM_text_data)\n",
    "\n",
    "# create nonSTEM dataframe from previous steps sparse matrix results. Same structure as STEM_counts\n",
    "nonSTEM_counts = pd.DataFrame(nonSTEM_vectors.T.todense(), index= feature_names, columns= nonSTEM_profiles) \n",
    "\n",
    "# create nonSTEM_sum_pos column\n",
    "nonSTEM_counts['nonSTEM_sum_pos'] = nonSTEM_counts.apply(lambda x: np.sum(x[nonSTEM_profiles]), axis=1)\n",
    "\n",
    "# create nonSTEM_sum_neg column\n",
    "nonSTEM_counts['nonSTEM_sum_neg'] = num_nonSTEM - nonSTEM_counts['nonSTEM_sum_pos']\n",
    "\n",
    "# combine class dataframes into one using an innerjoin on indexes\n",
    "all_counts = STEM_counts.merge(nonSTEM_counts, left_index=True, right_index=True)\n"
   ]
  },
  {
   "cell_type": "code",
   "execution_count": 21,
   "metadata": {},
   "outputs": [],
   "source": [
    "# import fisher_exact for computing odds-ratios and p-values\n",
    "from scipy.stats import fisher_exact\n",
    "# import multipletests to calculate adjusted p-values\n",
    "from statsmodels.stats.multitest import multipletests\n",
    "\n",
    "# helper method to run fisher's exact test\n",
    "def odds_ratio(class1_pos, class2_pos, class1_neg, class2_neg):\n",
    "    odds_ratio, p_value = fisher_exact([[class1_pos, class2_pos],\n",
    "                                        [class1_neg, class2_neg]])\n",
    "    return odds_ratio, p_value\n",
    "\n",
    "# store odds_ratio in column\n",
    "all_counts['odds_ratio'] = all_counts.apply(lambda x: odds_ratio(x['STEM_sum_pos'], x['nonSTEM_sum_pos'],\n",
    "                                                                 x['STEM_sum_neg'], x['nonSTEM_sum_neg'])[0], axis=1)\n",
    "# store unadjusted p-values in column\n",
    "all_counts['odds_p_value'] = all_counts.apply(lambda x: odds_ratio(x['STEM_sum_pos'], x['nonSTEM_sum_pos'],\n",
    "                                                                 x['STEM_sum_neg'], x['nonSTEM_sum_neg'])[1], axis=1)"
   ]
  },
  {
   "cell_type": "code",
   "execution_count": 22,
   "metadata": {},
   "outputs": [],
   "source": [
    "# helper method to calculate and return adjusted p-value\n",
    "def corrected_pval(p_values):\n",
    "    rej, pvals, aSidak, aBonf = multipletests(p_values, alpha=.05, method='fdr_bh')\n",
    "    \n",
    "    return pvals\n",
    "\n",
    "# store corrected p-value in new column\n",
    "all_counts['FDR_corrected_p_value'] = corrected_pval(all_counts['odds_p_value'])"
   ]
  },
  {
   "cell_type": "code",
   "execution_count": 23,
   "metadata": {},
   "outputs": [
    {
     "name": "stdout",
     "output_type": "stream",
     "text": [
      "103 ['_blank', 'algorithm', 'alto', 'anathem', 'android', 'application', 'apps', 'artificial', 'asimov', 'bicycling', 'biomedical', 'biotech', 'bt', 'canada', 'clinic', 'clinical', 'cod', 'code', 'commute', 'computer', 'computing', 'coworkers', 'crossfit', 'cryptonomicon', 'data', 'database', 'developer', 'dna', 'electrical', 'electronics', 'emergency', 'ender', 'engineer', 'engineering', 'escher', 'feynman', 'fm', 'freakonomics', 'gadget', 'gattaca', 'geeky', 'gibson', 'hack', 'hacker', 'hardware', 'healthcare', 'heinlein', 'hospital', 'intp', 'javascript', 'lab', 'laser', 'linux', 'mechanical', 'medical', 'mit', 'mobile', 'molecular', 'neal', 'neuromancer', 'neuroscience', 'nofollow', 'nurse', 'orbital', 'palo', 'pediatric', 'pharmaceutical', 'physician', 'practitioner', 'pratchett', 'primer', 'programmer', 'programming', 'psychotherapist', 'register', 'rel', 'researcher', 'residency', 'rn', 'scientific', 'scientist', 'scifi', 'silicon', 'software', 'solar', 'soma', 'startup', 'stephenson', 'stross', 'tech', 'techie', 'technical', 'technician', 'technology', 'therapist', 'tinker', 'ucsf', 'ui', 'vernor', 'vinge', 'web', 'wikipedia', 'xkcd']\n",
      "16 ['accounting', 'attorney', 'ba', 'credential', 'educator', 'elementary', 'homework', 'lawyer', 'mfa', 'nanny', 'retail', 'semester', 'sfsu', 'student', 'stylist', 'teacher']\n"
     ]
    }
   ],
   "source": [
    "# store keywords in two lists based on class affinity.\n",
    "STEM_words = all_counts[(all_counts['FDR_corrected_p_value'] < 0.000001) & (all_counts['odds_ratio'] > 2)].index.tolist()\n",
    "nonSTEM_words = all_counts[(all_counts['FDR_corrected_p_value'] < 0.000001) & (all_counts['odds_ratio'] < .5)].index.tolist()\n",
    "\n",
    "# print length of the lists and the keywords associated with each\n",
    "print(len(STEM_words), STEM_words)\n",
    "print(len(nonSTEM_words), nonSTEM_words)"
   ]
  },
  {
   "cell_type": "markdown",
   "metadata": {},
   "source": [
    "### Create Binary Features for Keywords"
   ]
  },
  {
   "cell_type": "code",
   "execution_count": 24,
   "metadata": {},
   "outputs": [],
   "source": [
    "#combine lists for keywords\n",
    "keywords = STEM_words + nonSTEM_words\n",
    "\n",
    "# helper method to check if a word is in the profiles essays\n",
    "def get_keyword_binary(keyword, essay_str):\n",
    "    if keyword in essay_str:\n",
    "        return 1\n",
    "    else:\n",
    "        return 0\n",
    "    \n",
    "# loop through keyword list and create a new binary column of that word in essays\n",
    "for keyword in keywords:\n",
    "    profiles[keyword] = profiles.apply(lambda row: get_keyword_binary(keyword, row['all_essays']), axis=1)"
   ]
  },
  {
   "cell_type": "markdown",
   "metadata": {},
   "source": [
    "## Analysis of Population Features by Target Class:\n",
    "In this section we will look at the relationships between categorical features and the target variable. Raw percentages by class as well as a visual of the percentage by class will be displayed. In the lists below, those variables that show stronger potential as predictors are denoted with *. \n",
    "\n",
    "**Feature columns to explore:**\n",
    "\n",
    "    1. Basic Demographics: \n",
    "        - age*\n",
    "        - height\n",
    "        - sex*\n",
    "        - orientation\n",
    "        - status\n",
    "        - ethnicity\n",
    "        \n",
    "    2. Spirituality:   \n",
    "        - religion*\n",
    "        - religion_mod\n",
    "        - sign_mod*   \n",
    " \n",
    "    3. Substance Use:\n",
    "        - drinks\n",
    "        - drugs\n",
    "        - smokes*\n",
    "    \n",
    "    4. Diet and Body Type:\n",
    "        - diet\n",
    "        - diet_modifier\n",
    "        - body_type\n",
    "        - body_image\n",
    "        \n",
    "    5. Education:\n",
    "        - education_level*\n",
    "        - language_count*\n",
    "\n",
    "    6. Children:\n",
    "        - offspring\n",
    "        - more_children\n",
    "        \n",
    "    7. Pets:\n",
    "        - has_dogs\n",
    "        - likes_dogs\n",
    "        - has_cats\n",
    "        - likes_cats\n"
   ]
  },
  {
   "cell_type": "code",
   "execution_count": 25,
   "metadata": {},
   "outputs": [],
   "source": [
    "# helper method for looking at categories by STEM vs non-STEM\n",
    "# returns percentages for distribution and a plot of those percentages by class and category\n",
    "def analyze_category_by_class(category):\n",
    "    # print percentage of category by class \n",
    "    print('STEM percentages:\\n', \n",
    "          (100.0*STEM_data[category].value_counts()/num_STEM).round(2),\n",
    "         '\\n')\n",
    "    print('Non-STEM percentages:\\n', \n",
    "          (100.0*nonSTEM_data[category].value_counts()/num_nonSTEM).round(2))\n",
    "    \n",
    "    # create a percentage barplot for the printed data\n",
    "    x, y, hue = 'STEM', 'Percent', category\n",
    "    # clear previous plot formatting, if any\n",
    "    plt.clf()\n",
    "    # set figure size to account for legend placement with multiple categories\n",
    "    plt.figure(figsize=(8, 4))\n",
    "    # create axis for setting x-labels\n",
    "    ax = plt.subplot() \n",
    "    # create temporary dataframe for barplot\n",
    "    percent_df = (profiles\n",
    "                  .groupby(x)[hue]\n",
    "                  .value_counts(normalize=True)\n",
    "                  .mul(100)\n",
    "                  .rename(y)\n",
    "                  .reset_index())\n",
    "\n",
    "    sns.barplot(x=x, y=y, hue=hue, data=percent_df)\n",
    "    # create plot title\n",
    "    plt.title(category + ' by Percentage of Target Class')\n",
    "    # set x_ticks and labels\n",
    "    ax.set_xticks([0.0, 1.0])\n",
    "    ax.set_xticklabels(['Non-STEM', 'STEM'])\n",
    "    # show plot\n",
    "    plt.show()\n",
    "   \n",
    "    \n",
    "    \n",
    "    \n",
    "# helper method to analyze numerical data by STEM vs non-STEM\n",
    "# returns summary descriptive stats by class and a violinplot of distribution\n",
    "def analyze_numerical_by_class(num_stats):\n",
    "    print('STEM stats:\\n', STEM_data[num_stats].describe(), '\\n')\n",
    "    print('Non-STEM stats:\\n', nonSTEM_data[num_stats].describe(), '\\n')\n",
    "    \n",
    "    plt.clf()\n",
    "    ax = plt.subplot()\n",
    "    sns.violinplot(data=profiles, x= 'STEM', y=num_stats)\n",
    "    plt.xlabel('STEM')\n",
    "    ax.set_xticks([0.0, 1.0])\n",
    "    ax.set_xticklabels(['Non-STEM', 'STEM'])\n",
    "    plt.title(num_stats + ' by Target Class')\n",
    "    plt.show()\n"
   ]
  },
  {
   "cell_type": "markdown",
   "metadata": {},
   "source": [
    "### 1. Basic Demographics: Age and sex are likely good predictors\n",
    "\n",
    "- age: Both classes exhibit right skew with medians about 2 less than the mean. Non-STEM profiles have a longer tail, most likely due to users past retirement age not filling out the profession. Even with all users over 69 falling in the non-STEM category, STEM profiles have a slightly higher mean of 33.1 vs 32.4. Age is likely a good feature for identifying profiles as non-STEM if they are past retirement age.\n",
    "\n",
    "- height: Similar distributions for height with some outliers in both categories. Minimums are below what is humanly possible, so unless there is a Tom Thumb out there, there is some erroneous data. Overall STEM is slightly taller on average, which makes sense when viewed in the context of the higher proportion of males in the STEM category. This is likely a weak predictor.\n",
    "\n",
    "- sex: Much higher proportion of males in the STEM profession category (70.96% vs 56.85%). There also is a higher proportion of males overall on OKCupid. Due to the difference in distribution this may be a good feature for prediction.\n",
    "\n",
    "- orientation: There are similar distributions for orientation. There is a slightly higher proportion of individuals in the non-STEM category that identify as gay or bisexual (14.58% vs 11.14%). This is likely a weak predictor.\n",
    "\n",
    "- status: There are similar distributions for relationship status. There is a slightly higher proportion of STEM users that report their status as seeing someone or available vice single (8.07% vs 6.16%). This is likely a weak predictor.\n",
    "\n",
    "- ethnicity: The overall population is majority white (STEM = 58%, non-STEM= 55.55%). Slightly higher proportions of STEM users are Asian (12.26% vs 9.47%) and Indian (3.35% vs. 1.32%). This is likely a weak predictor."
   ]
  },
  {
   "cell_type": "code",
   "execution_count": 26,
   "metadata": {},
   "outputs": [
    {
     "name": "stdout",
     "output_type": "stream",
     "text": [
      "STEM stats:\n",
      " count    13237.000000\n",
      "mean        33.071391\n",
      "std          8.729107\n",
      "min         18.000000\n",
      "25%         27.000000\n",
      "50%         31.000000\n",
      "75%         37.000000\n",
      "max         69.000000\n",
      "Name: age, dtype: float64 \n",
      "\n",
      "Non-STEM stats:\n",
      " count    38510.000000\n",
      "mean        32.377616\n",
      "std          9.769483\n",
      "min         18.000000\n",
      "25%         25.000000\n",
      "50%         30.000000\n",
      "75%         37.000000\n",
      "max        109.000000\n",
      "Name: age, dtype: float64 \n",
      "\n"
     ]
    },
    {
     "data": {
      "image/png": "[encoded data removed]",
      "text/plain": [
       "<Figure size 432x288 with 1 Axes>"
      ]
     },
     "metadata": {
      "needs_background": "light"
     },
     "output_type": "display_data"
    },
    {
     "name": "stdout",
     "output_type": "stream",
     "text": [
      "STEM stats:\n",
      " count    13237.000000\n",
      "mean        68.840825\n",
      "std          3.880171\n",
      "min          1.000000\n",
      "25%         66.000000\n",
      "50%         69.000000\n",
      "75%         72.000000\n",
      "max         95.000000\n",
      "Name: height, dtype: float64 \n",
      "\n",
      "Non-STEM stats:\n",
      " count    38510.000000\n",
      "mean        68.156037\n",
      "std          3.998576\n",
      "min          4.000000\n",
      "25%         65.000000\n",
      "50%         68.000000\n",
      "75%         71.000000\n",
      "max         95.000000\n",
      "Name: height, dtype: float64 \n",
      "\n"
     ]
    },
    {
     "data": {
      "image/png": "[encoded data removed]",
      "text/plain": [
       "<Figure size 432x288 with 1 Axes>"
      ]
     },
     "metadata": {
      "needs_background": "light"
     },
     "output_type": "display_data"
    },
    {
     "name": "stdout",
     "output_type": "stream",
     "text": [
      "STEM percentages:\n",
      " m    70.96\n",
      "f    29.04\n",
      "Name: sex, dtype: float64 \n",
      "\n",
      "Non-STEM percentages:\n",
      " m    56.85\n",
      "f    43.15\n",
      "Name: sex, dtype: float64\n"
     ]
    },
    {
     "data": {
      "text/plain": [
       "<Figure size 432x288 with 0 Axes>"
      ]
     },
     "metadata": {},
     "output_type": "display_data"
    },
    {
     "data": {
      "image/png": "[encoded data removed]",
      "text/plain": [
       "<Figure size 576x288 with 1 Axes>"
      ]
     },
     "metadata": {
      "needs_background": "light"
     },
     "output_type": "display_data"
    },
    {
     "name": "stdout",
     "output_type": "stream",
     "text": [
      "STEM percentages:\n",
      " straight    88.86\n",
      "gay          7.71\n",
      "bisexual     3.43\n",
      "Name: orientation, dtype: float64 \n",
      "\n",
      "Non-STEM percentages:\n",
      " straight    85.41\n",
      "gay          9.69\n",
      "bisexual     4.89\n",
      "Name: orientation, dtype: float64\n"
     ]
    },
    {
     "data": {
      "text/plain": [
       "<Figure size 432x288 with 0 Axes>"
      ]
     },
     "metadata": {},
     "output_type": "display_data"
    },
    {
     "data": {
      "image/png": "[encoded data removed]",
      "text/plain": [
       "<Figure size 576x288 with 1 Axes>"
      ]
     },
     "metadata": {
      "needs_background": "light"
     },
     "output_type": "display_data"
    },
    {
     "name": "stdout",
     "output_type": "stream",
     "text": [
      "STEM percentages:\n",
      " single            91.29\n",
      "seeing someone     4.17\n",
      "available          3.90\n",
      "married            0.63\n",
      "unknown            0.02\n",
      "Name: status, dtype: float64 \n",
      "\n",
      "Non-STEM percentages:\n",
      " single            93.35\n",
      "seeing someone     3.28\n",
      "available          2.88\n",
      "married            0.48\n",
      "unknown            0.02\n",
      "Name: status, dtype: float64\n"
     ]
    },
    {
     "data": {
      "text/plain": [
       "<Figure size 432x288 with 0 Axes>"
      ]
     },
     "metadata": {},
     "output_type": "display_data"
    },
    {
     "data": {
      "image/png": "[encoded data removed]",
      "text/plain": [
       "<Figure size 576x288 with 1 Axes>"
      ]
     },
     "metadata": {
      "needs_background": "light"
     },
     "output_type": "display_data"
    },
    {
     "name": "stdout",
     "output_type": "stream",
     "text": [
      "STEM percentages:\n",
      " white               58.00\n",
      "asian               12.26\n",
      "2 or more            9.90\n",
      "unknown              7.58\n",
      "indian               3.35\n",
      "hispanic / latin     3.32\n",
      "black                2.12\n",
      "other                2.11\n",
      "pacific islander     0.78\n",
      "middle eastern       0.51\n",
      "native american      0.07\n",
      "Name: ethnicity, dtype: float64 \n",
      "\n",
      "Non-STEM percentages:\n",
      " white               55.55\n",
      "2 or more           12.29\n",
      "asian                9.47\n",
      "unknown              7.94\n",
      "hispanic / latin     5.11\n",
      "black                3.86\n",
      "other                3.11\n",
      "indian               1.32\n",
      "pacific islander     0.68\n",
      "middle eastern       0.55\n",
      "native american      0.13\n",
      "Name: ethnicity, dtype: float64\n"
     ]
    },
    {
     "data": {
      "text/plain": [
       "<Figure size 432x288 with 0 Axes>"
      ]
     },
     "metadata": {},
     "output_type": "display_data"
    },
    {
     "data": {
      "image/png": "[encoded data removed]",
      "text/plain": [
       "<Figure size 576x288 with 1 Axes>"
      ]
     },
     "metadata": {
      "needs_background": "light"
     },
     "output_type": "display_data"
    }
   ],
   "source": [
    "analyze_numerical_by_class('age')\n",
    "analyze_numerical_by_class('height')  \n",
    "analyze_category_by_class('sex')\n",
    "analyze_category_by_class('orientation')\n",
    "analyze_category_by_class('status')\n",
    "analyze_category_by_class('ethnicity')"
   ]
  },
  {
   "cell_type": "markdown",
   "metadata": {},
   "source": [
    "### 2. Spirituality: Religion and sign_mod are likely good predictors  \n",
    "\n",
    "- religion: STEM users are more likely to be Agnostic (17.81% vs 14.76%),  Atheist (16.85% vs 10.61%) or Hindu (1.34% vs 0.61%). They are less likely to be Christian (8.32% vs 10.95%) or Catholic (7.07% vs 8.94%). Both show very similar rates of Jewish, Buddhist and Islamic users. This could be a good predictor.\n",
    "\n",
    "- religion_mod: There are similar distributions between religious sentiment for both groups with a right skew for seriousness. This is likely not a good predictor.\n",
    "\n",
    "- sign_mod: Both show similar patterns of the majority either not filling out an astrological sign or saying it doesn't matter. Next most popular sentiment is that it is fun to think about. Very few people said that it really matters. Even though the overall pattern was similar, STEM users were more likely to either not fill it out or say it doesn't matter (54.35% vs 41.9%). This is likely a good predictor.\n"
   ]
  },
  {
   "cell_type": "code",
   "execution_count": 27,
   "metadata": {},
   "outputs": [
    {
     "name": "stdout",
     "output_type": "stream",
     "text": [
      "STEM percentages:\n",
      " unknown         28.42\n",
      "agnosticism     17.81\n",
      "atheism         16.85\n",
      "other           11.14\n",
      "christianity     8.32\n",
      "catholicism      7.07\n",
      "judaism          5.32\n",
      "buddhism         3.50\n",
      "hinduism         1.34\n",
      "islam            0.23\n",
      "Name: religion, dtype: float64 \n",
      "\n",
      "Non-STEM percentages:\n",
      " unknown         30.05\n",
      "other           14.95\n",
      "agnosticism     14.76\n",
      "christianity    10.95\n",
      "atheism         10.61\n",
      "catholicism      8.94\n",
      "judaism          5.46\n",
      "buddhism         3.43\n",
      "hinduism         0.61\n",
      "islam            0.24\n",
      "Name: religion, dtype: float64\n"
     ]
    },
    {
     "data": {
      "text/plain": [
       "<Figure size 432x288 with 0 Axes>"
      ]
     },
     "metadata": {},
     "output_type": "display_data"
    },
    {
     "data": {
      "image/png": "[encoded data removed]",
      "text/plain": [
       "<Figure size 576x288 with 1 Axes>"
      ]
     },
     "metadata": {
      "needs_background": "light"
     },
     "output_type": "display_data"
    },
    {
     "name": "stdout",
     "output_type": "stream",
     "text": [
      "STEM percentages:\n",
      " 0    45.71\n",
      "1    22.61\n",
      "2    20.00\n",
      "3     8.08\n",
      "4     3.61\n",
      "Name: religion_mod, dtype: float64 \n",
      "\n",
      "Non-STEM percentages:\n",
      " 0    45.68\n",
      "1    22.01\n",
      "2    20.09\n",
      "3     8.18\n",
      "4     4.03\n",
      "Name: religion_mod, dtype: float64\n"
     ]
    },
    {
     "data": {
      "text/plain": [
       "<Figure size 432x288 with 0 Axes>"
      ]
     },
     "metadata": {},
     "output_type": "display_data"
    },
    {
     "data": {
      "image/png": "[encoded data removed]",
      "text/plain": [
       "<Figure size 576x288 with 1 Axes>"
      ]
     },
     "metadata": {
      "needs_background": "light"
     },
     "output_type": "display_data"
    },
    {
     "name": "stdout",
     "output_type": "stream",
     "text": [
      "STEM percentages:\n",
      " 0    54.35\n",
      "2    28.71\n",
      "1    16.23\n",
      "3     0.71\n",
      "Name: sign_mod, dtype: float64 \n",
      "\n",
      "Non-STEM percentages:\n",
      " 0    41.90\n",
      "2    36.12\n",
      "1    20.63\n",
      "3     1.36\n",
      "Name: sign_mod, dtype: float64\n"
     ]
    },
    {
     "data": {
      "text/plain": [
       "<Figure size 432x288 with 0 Axes>"
      ]
     },
     "metadata": {},
     "output_type": "display_data"
    },
    {
     "data": {
      "image/png": "[encoded data removed]",
      "text/plain": [
       "<Figure size 576x288 with 1 Axes>"
      ]
     },
     "metadata": {
      "needs_background": "light"
     },
     "output_type": "display_data"
    }
   ],
   "source": [
    "analyze_category_by_class('religion')\n",
    "analyze_category_by_class('religion_mod')\n",
    "analyze_category_by_class('sign_mod')"
   ]
  },
  {
   "cell_type": "markdown",
   "metadata": {},
   "source": [
    "### 3. Substance Use: Smokes may be a good predictor\n",
    "\n",
    "- drinks: Similar distributions, but STEM users were less likely to describe their drinking as often (7.98% vs 9.02%) or very often (0.51% vs 0.89%). This probably is not enough of a difference to offer much predictive power because these are opinions at the extremes of the bell curve. The vast majority fall under socially for both.\n",
    "\n",
    "- drugs: Similar distributions with a slightly higher proportion of non-STEM users in the sometimes and often categories (combined 14.76% vs 11.34%). Not enough of a difference to be a good predictor.\n",
    "\n",
    "- smokes: STEM users are less likely to be a smoker. 19.71% of non-STEM users report some form of smoking vs 12.07% of STEM users. This may be useful as a predictor when converted to an ordinal variable."
   ]
  },
  {
   "cell_type": "code",
   "execution_count": 28,
   "metadata": {},
   "outputs": [
    {
     "name": "stdout",
     "output_type": "stream",
     "text": [
      "STEM percentages:\n",
      " socially       72.84\n",
      "rarely         10.52\n",
      "often           7.98\n",
      "not at all      4.87\n",
      "unknown         2.80\n",
      "very often      0.51\n",
      "desperately     0.48\n",
      "Name: drinks, dtype: float64 \n",
      "\n",
      "Non-STEM percentages:\n",
      " socially       70.41\n",
      "rarely         10.22\n",
      "often           9.02\n",
      "not at all      5.77\n",
      "unknown         3.14\n",
      "very often      0.89\n",
      "desperately     0.55\n",
      "Name: drinks, dtype: float64\n"
     ]
    },
    {
     "data": {
      "text/plain": [
       "<Figure size 432x288 with 0 Axes>"
      ]
     },
     "metadata": {},
     "output_type": "display_data"
    },
    {
     "data": {
      "image/png": "[encoded data removed]",
      "text/plain": [
       "<Figure size 576x288 with 1 Axes>"
      ]
     },
     "metadata": {
      "needs_background": "light"
     },
     "output_type": "display_data"
    },
    {
     "name": "stdout",
     "output_type": "stream",
     "text": [
      "STEM percentages:\n",
      " never        65.67\n",
      "unknown      22.99\n",
      "sometimes    10.93\n",
      "often         0.41\n",
      "Name: drugs, dtype: float64 \n",
      "\n",
      "Non-STEM percentages:\n",
      " never        62.61\n",
      "unknown      22.63\n",
      "sometimes    13.95\n",
      "often         0.81\n",
      "Name: drugs, dtype: float64\n"
     ]
    },
    {
     "data": {
      "text/plain": [
       "<Figure size 432x288 with 0 Axes>"
      ]
     },
     "metadata": {},
     "output_type": "display_data"
    },
    {
     "data": {
      "image/png": "[encoded data removed]",
      "text/plain": [
       "<Figure size 576x288 with 1 Axes>"
      ]
     },
     "metadata": {
      "needs_background": "light"
     },
     "output_type": "display_data"
    },
    {
     "name": "stdout",
     "output_type": "stream",
     "text": [
      "STEM percentages:\n",
      " no                81.40\n",
      "unknown            6.52\n",
      "sometimes          4.46\n",
      "when drinking      4.29\n",
      "trying to quit     1.81\n",
      "yes                1.51\n",
      "Name: smokes, dtype: float64 \n",
      "\n",
      "Non-STEM percentages:\n",
      " no                73.14\n",
      "unknown            7.16\n",
      "sometimes          6.95\n",
      "when drinking      5.51\n",
      "yes                4.44\n",
      "trying to quit     2.81\n",
      "Name: smokes, dtype: float64\n"
     ]
    },
    {
     "data": {
      "text/plain": [
       "<Figure size 432x288 with 0 Axes>"
      ]
     },
     "metadata": {},
     "output_type": "display_data"
    },
    {
     "data": {
      "image/png": "[encoded data removed]",
      "text/plain": [
       "<Figure size 576x288 with 1 Axes>"
      ]
     },
     "metadata": {
      "needs_background": "light"
     },
     "output_type": "display_data"
    }
   ],
   "source": [
    "analyze_category_by_class('drinks')\n",
    "analyze_category_by_class('drugs')\n",
    "analyze_category_by_class('smokes')"
   ]
  },
  {
   "cell_type": "markdown",
   "metadata": {},
   "source": [
    "### 4. Diet and Body Type: Not good predictors\n",
    "\n",
    "- diet: The majority of the population ~87% did not answer or will eat anything. The other categories had similar rates in both target classes. This is not going to be a good predictor.\n",
    "\n",
    "- diet_modifier: Similar distributions for diet_modifier with all categories falling within 1% of their counterparts.\n",
    "\n",
    "- body_type: Most categories were similar, falling within 1% of their counterparts. STEM profiles were slightly more likely to describe themselves as fit or athletic (45.47% vs 40.03%). This is not a great predictor, but may offer some information.\n",
    "\n",
    "- body_image: There was very little difference in body_image distribution. STEM had 2% more in the highest category, but 2% less in the second highest category. All others were nearly the same.\n"
   ]
  },
  {
   "cell_type": "code",
   "execution_count": 29,
   "metadata": {},
   "outputs": [
    {
     "name": "stdout",
     "output_type": "stream",
     "text": [
      "STEM percentages:\n",
      " anything      49.76\n",
      "unknown       37.72\n",
      "vegetarian     8.36\n",
      "other          2.93\n",
      "vegan          0.98\n",
      "kosher         0.13\n",
      "halal          0.12\n",
      "Name: diet, dtype: float64 \n",
      "\n",
      "Non-STEM percentages:\n",
      " anything      48.47\n",
      "unknown       38.17\n",
      "vegetarian     8.55\n",
      "other          3.25\n",
      "vegan          1.19\n",
      "kosher         0.23\n",
      "halal          0.13\n",
      "Name: diet, dtype: float64\n"
     ]
    },
    {
     "data": {
      "text/plain": [
       "<Figure size 432x288 with 0 Axes>"
      ]
     },
     "metadata": {},
     "output_type": "display_data"
    },
    {
     "data": {
      "image/png": "[encoded data removed]",
      "text/plain": [
       "<Figure size 576x288 with 1 Axes>"
      ]
     },
     "metadata": {
      "needs_background": "light"
     },
     "output_type": "display_data"
    },
    {
     "name": "stdout",
     "output_type": "stream",
     "text": [
      "STEM percentages:\n",
      " 0    49.57\n",
      "1    37.92\n",
      "2    12.51\n",
      "Name: diet_modifier, dtype: float64 \n",
      "\n",
      "Non-STEM percentages:\n",
      " 0    50.74\n",
      "1    38.01\n",
      "2    11.25\n",
      "Name: diet_modifier, dtype: float64\n"
     ]
    },
    {
     "data": {
      "text/plain": [
       "<Figure size 432x288 with 0 Axes>"
      ]
     },
     "metadata": {},
     "output_type": "display_data"
    },
    {
     "data": {
      "image/png": "[encoded data removed]",
      "text/plain": [
       "<Figure size 576x288 with 1 Axes>"
      ]
     },
     "metadata": {
      "needs_background": "light"
     },
     "output_type": "display_data"
    },
    {
     "name": "stdout",
     "output_type": "stream",
     "text": [
      "STEM percentages:\n",
      " average           25.05\n",
      "fit               23.91\n",
      "athletic          21.56\n",
      "unknown            7.77\n",
      "thin               7.10\n",
      "a little extra     4.37\n",
      "curvy              4.14\n",
      "skinny             2.72\n",
      "full figured       1.17\n",
      "overweight         0.91\n",
      "jacked             0.59\n",
      "used up            0.46\n",
      "rather not say     0.24\n",
      "Name: body_type, dtype: float64 \n",
      "\n",
      "Non-STEM percentages:\n",
      " average           24.74\n",
      "fit               20.68\n",
      "athletic          19.35\n",
      "thin               8.03\n",
      "unknown            7.60\n",
      "curvy              7.55\n",
      "a little extra     4.72\n",
      "skinny             2.89\n",
      "full figured       1.98\n",
      "overweight         0.76\n",
      "jacked             0.71\n",
      "used up            0.64\n",
      "rather not say     0.35\n",
      "Name: body_type, dtype: float64\n"
     ]
    },
    {
     "data": {
      "text/plain": [
       "<Figure size 432x288 with 0 Axes>"
      ]
     },
     "metadata": {},
     "output_type": "display_data"
    },
    {
     "data": {
      "image/png": "[encoded data removed]",
      "text/plain": [
       "<Figure size 576x288 with 1 Axes>"
      ]
     },
     "metadata": {
      "needs_background": "light"
     },
     "output_type": "display_data"
    },
    {
     "name": "stdout",
     "output_type": "stream",
     "text": [
      "STEM percentages:\n",
      " 4    50.20\n",
      "2    33.07\n",
      "3     8.27\n",
      "1     7.09\n",
      "0     1.37\n",
      "Name: body_image, dtype: float64 \n",
      "\n",
      "Non-STEM percentages:\n",
      " 4    48.29\n",
      "2    32.68\n",
      "3    10.02\n",
      "1     7.61\n",
      "0     1.39\n",
      "Name: body_image, dtype: float64\n"
     ]
    },
    {
     "data": {
      "text/plain": [
       "<Figure size 432x288 with 0 Axes>"
      ]
     },
     "metadata": {},
     "output_type": "display_data"
    },
    {
     "data": {
      "image/png": "[encoded data removed]",
      "text/plain": [
       "<Figure size 576x288 with 1 Axes>"
      ]
     },
     "metadata": {
      "needs_background": "light"
     },
     "output_type": "display_data"
    }
   ],
   "source": [
    "analyze_category_by_class('diet')\n",
    "analyze_category_by_class('diet_modifier')\n",
    "analyze_category_by_class('body_type')\n",
    "analyze_category_by_class('body_image')"
   ]
  },
  {
   "cell_type": "markdown",
   "metadata": {},
   "source": [
    "### 5. Education: Likely good predictors\n",
    "\n",
    "- education_level: STEM profiles were more likely to have a Master's degree or higher (31.74% vs 20.34%). Both classes had similar percentages for 4-year college/university graduates. STEM profiles were less likely to have a two-year degree (9.59% vs 18.08%) and much less likely to have only a highschool diploma (1.87% vs 6.34%). There was a very small percentage of each group that did not answer, were highschool dropouts or went to space camp. This is likely a good predictor.\n",
    "\n",
    "- language_count: STEM profiles were more likely to speak 3 or more languages (28.37% vs 22.38%). This may be because of the inclusion of the C++ and Lisp programming languages as choices. This may be a good predictor and there may be more information to be found in the languages dummy variables. "
   ]
  },
  {
   "cell_type": "code",
   "execution_count": 30,
   "metadata": {},
   "outputs": [
    {
     "name": "stdout",
     "output_type": "stream",
     "text": [
      "STEM percentages:\n",
      " 4    47.84\n",
      "5    31.74\n",
      "3     9.59\n",
      "0     8.74\n",
      "2     1.87\n",
      "1     0.20\n",
      "Name: education_level, dtype: float64 \n",
      "\n",
      "Non-STEM percentages:\n",
      " 4    44.37\n",
      "5    20.34\n",
      "3    18.08\n",
      "0    10.27\n",
      "2     6.34\n",
      "1     0.59\n",
      "Name: education_level, dtype: float64\n"
     ]
    },
    {
     "data": {
      "text/plain": [
       "<Figure size 432x288 with 0 Axes>"
      ]
     },
     "metadata": {},
     "output_type": "display_data"
    },
    {
     "data": {
      "image/png": "[encoded data removed]",
      "text/plain": [
       "<Figure size 576x288 with 1 Axes>"
      ]
     },
     "metadata": {
      "needs_background": "light"
     },
     "output_type": "display_data"
    },
    {
     "name": "stdout",
     "output_type": "stream",
     "text": [
      "STEM percentages:\n",
      " 1    42.15\n",
      "2    29.49\n",
      "3    17.44\n",
      "4     7.34\n",
      "5     3.59\n",
      "Name: language_count, dtype: float64 \n",
      "\n",
      "Non-STEM percentages:\n",
      " 1    47.83\n",
      "2    29.79\n",
      "3    14.42\n",
      "4     5.21\n",
      "5     2.75\n",
      "Name: language_count, dtype: float64\n"
     ]
    },
    {
     "data": {
      "text/plain": [
       "<Figure size 432x288 with 0 Axes>"
      ]
     },
     "metadata": {},
     "output_type": "display_data"
    },
    {
     "data": {
      "image/png": "[encoded data removed]",
      "text/plain": [
       "<Figure size 576x288 with 1 Axes>"
      ]
     },
     "metadata": {
      "needs_background": "light"
     },
     "output_type": "display_data"
    }
   ],
   "source": [
    "analyze_category_by_class('education_level')\n",
    "analyze_category_by_class('language_count')"
   ]
  },
  {
   "cell_type": "markdown",
   "metadata": {},
   "source": [
    "### 6. Children: Not good predictors\n",
    "\n",
    "- offspring: Most users do not have children, but STEM users are slightly less likely to have children (7.95% vs 9.05%). This likely is not a good predictor.\n",
    "\n",
    "- more_children: Once again there is little difference between classes with nearly identical proportions in each category. This is likely not a good predictor."
   ]
  },
  {
   "cell_type": "code",
   "execution_count": 31,
   "metadata": {},
   "outputs": [
    {
     "name": "stdout",
     "output_type": "stream",
     "text": [
      "STEM percentages:\n",
      " 0    92.05\n",
      "1     4.04\n",
      "2     3.91\n",
      "Name: offspring, dtype: float64 \n",
      "\n",
      "Non-STEM percentages:\n",
      " 0    90.95\n",
      "2     4.58\n",
      "1     4.47\n",
      "Name: offspring, dtype: float64\n"
     ]
    },
    {
     "data": {
      "text/plain": [
       "<Figure size 432x288 with 0 Axes>"
      ]
     },
     "metadata": {},
     "output_type": "display_data"
    },
    {
     "data": {
      "image/png": "[encoded data removed]",
      "text/plain": [
       "<Figure size 576x288 with 1 Axes>"
      ]
     },
     "metadata": {
      "needs_background": "light"
     },
     "output_type": "display_data"
    },
    {
     "name": "stdout",
     "output_type": "stream",
     "text": [
      "STEM percentages:\n",
      " 0    85.30\n",
      "1     7.94\n",
      "2     6.76\n",
      "Name: more_children, dtype: float64 \n",
      "\n",
      "Non-STEM percentages:\n",
      " 0    84.92\n",
      "1     8.03\n",
      "2     7.04\n",
      "Name: more_children, dtype: float64\n"
     ]
    },
    {
     "data": {
      "text/plain": [
       "<Figure size 432x288 with 0 Axes>"
      ]
     },
     "metadata": {},
     "output_type": "display_data"
    },
    {
     "data": {
      "image/png": "[encoded data removed]",
      "text/plain": [
       "<Figure size 576x288 with 1 Axes>"
      ]
     },
     "metadata": {
      "needs_background": "light"
     },
     "output_type": "display_data"
    }
   ],
   "source": [
    "analyze_category_by_class('offspring')\n",
    "analyze_category_by_class('more_children')"
   ]
  },
  {
   "cell_type": "markdown",
   "metadata": {},
   "source": [
    "### 7. Pets: Not good predictors\n",
    "\n",
    "- has_dogs: STEM users are less likely to own a dog (11.49% vs 15.91%).\n",
    "\n",
    "- likes_dogs: STEM users are also slightly less likely to like dogs (63.19% vs 65.81%).\n",
    "\n",
    "- has_cats: STEM users are less likely to own a cat (11.49% vs 13.36%).\n",
    "\n",
    "- likes_cats: Proportions are nearly identical for cat affinity (45.84% vs 45.67%)."
   ]
  },
  {
   "cell_type": "code",
   "execution_count": 32,
   "metadata": {},
   "outputs": [
    {
     "name": "stdout",
     "output_type": "stream",
     "text": [
      "STEM percentages:\n",
      " 0    88.51\n",
      "1    11.49\n",
      "Name: has_dogs, dtype: float64 \n",
      "\n",
      "Non-STEM percentages:\n",
      " 0    84.09\n",
      "1    15.91\n",
      "Name: has_dogs, dtype: float64\n"
     ]
    },
    {
     "data": {
      "text/plain": [
       "<Figure size 432x288 with 0 Axes>"
      ]
     },
     "metadata": {},
     "output_type": "display_data"
    },
    {
     "data": {
      "image/png": "[encoded data removed]",
      "text/plain": [
       "<Figure size 576x288 with 1 Axes>"
      ]
     },
     "metadata": {
      "needs_background": "light"
     },
     "output_type": "display_data"
    },
    {
     "name": "stdout",
     "output_type": "stream",
     "text": [
      "STEM percentages:\n",
      " 1    63.19\n",
      "0    36.81\n",
      "Name: likes_dogs, dtype: float64 \n",
      "\n",
      "Non-STEM percentages:\n",
      " 1    65.81\n",
      "0    34.19\n",
      "Name: likes_dogs, dtype: float64\n"
     ]
    },
    {
     "data": {
      "text/plain": [
       "<Figure size 432x288 with 0 Axes>"
      ]
     },
     "metadata": {},
     "output_type": "display_data"
    },
    {
     "data": {
      "image/png": "[encoded data removed]",
      "text/plain": [
       "<Figure size 576x288 with 1 Axes>"
      ]
     },
     "metadata": {
      "needs_background": "light"
     },
     "output_type": "display_data"
    },
    {
     "name": "stdout",
     "output_type": "stream",
     "text": [
      "STEM percentages:\n",
      " 0    88.51\n",
      "1    11.49\n",
      "Name: has_cats, dtype: float64 \n",
      "\n",
      "Non-STEM percentages:\n",
      " 0    86.64\n",
      "1    13.36\n",
      "Name: has_cats, dtype: float64\n"
     ]
    },
    {
     "data": {
      "text/plain": [
       "<Figure size 432x288 with 0 Axes>"
      ]
     },
     "metadata": {},
     "output_type": "display_data"
    },
    {
     "data": {
      "image/png": "[encoded data removed]",
      "text/plain": [
       "<Figure size 576x288 with 1 Axes>"
      ]
     },
     "metadata": {
      "needs_background": "light"
     },
     "output_type": "display_data"
    },
    {
     "name": "stdout",
     "output_type": "stream",
     "text": [
      "STEM percentages:\n",
      " 0    54.16\n",
      "1    45.84\n",
      "Name: likes_cats, dtype: float64 \n",
      "\n",
      "Non-STEM percentages:\n",
      " 0    54.33\n",
      "1    45.67\n",
      "Name: likes_cats, dtype: float64\n"
     ]
    },
    {
     "data": {
      "text/plain": [
       "<Figure size 432x288 with 0 Axes>"
      ]
     },
     "metadata": {},
     "output_type": "display_data"
    },
    {
     "data": {
      "image/png": "[encoded data removed]",
      "text/plain": [
       "<Figure size 576x288 with 1 Axes>"
      ]
     },
     "metadata": {
      "needs_background": "light"
     },
     "output_type": "display_data"
    }
   ],
   "source": [
    "analyze_category_by_class('has_dogs')\n",
    "analyze_category_by_class('likes_dogs')\n",
    "analyze_category_by_class('has_cats')\n",
    "analyze_category_by_class('likes_cats')"
   ]
  },
  {
   "cell_type": "markdown",
   "metadata": {},
   "source": [
    "## Modeling Plan:\n",
    "\n",
    "The data will be split into training (0.8) and test set (0.2) portions. The training data will be copied with different subsets of features to compare feature extraction importance by types of features. Using 5-fold cross-validation, trials of aggregating subsets of features will be run through a pipeline for a logistic regression model. The pipeline will consist of a RandomUnderSampler() to randomly downsample the majority class (nonSTEM) until the two target classes are even. Next, will be the StandardScaler() to refit each variable to a standard scale based on that variable's variance.  ROC-AUC scores will be computed for each k-fold and the overall average ROC-AUC score will be compared amongst the trials. This comparison between trials will give a sense for the magnitude of impact each successive feature set has on the baseline model. ROC-AUC is used because it is a good indicator of overall model performance, independent of the threshold used by the logistic regression model for classification. Accuracy is not the best statistic because it would be heavily affected by the threshold. \n",
    "\n",
    "Finally, the resultant best model will be scored on the test data to see how training with cross-validation for the model might perform with new samples, including on the actual occurence rate of non-STEM to STEM profiles in the overall population.\n",
    "\n",
    "**Note:** Not rebalancing the classes and various methods of oversampling the minority class, undersampling the majority class or a combination of over/undersampling were tried. For oversampling, variations of Synthetic Minority Oversampling Technique (SMOTE) were used from the imbalanced-learning (imblearn) library. Based on a comparison of ROC-AUC scores in the test data, random undersampling of the majority class performed the best empirically and was chosen for model fitting. It was also the only method to perform with a ROC-AUC over 0.7 with the test data.\n",
    "\n",
    "### Prepping Data for Modeling\n",
    "\n",
    "Candidate Variables Based on Exploratory Data Analysis, subdivided by trial:\n",
    "\n",
    "**First Trial: (Baseline)**\n",
    "- age: No prep needed.\n",
    "- sex: Map to 0 for female, 1 for male.\n",
    "- religion: Create dummy variables.\n",
    "- sign_mod: No prep needed.\n",
    "- smokes: Map to ordinal column.\n",
    "- education_level: No prep needed.\n",
    "- language_count: No prep needed.\n",
    "\n",
    "**Second Trial: (First trial features + Language Fluency)**\n",
    "- 76 language fluency columns: Create language_list of columns to drop on for trial preparation.\n",
    "\n",
    "**Third Trial: (1st and 2nd trial features + City Location)**\n",
    "- 41 city locations: Create dummy variables. Create city_list of columns to drop on for trial preparation.\n",
    "\n",
    "**Fourth Trial: (Trials 1-3 + Keywords from NLP)**\n",
    "- 119 binary keyword columns: No prep needed."
   ]
  },
  {
   "cell_type": "code",
   "execution_count": 33,
   "metadata": {},
   "outputs": [
    {
     "name": "stdout",
     "output_type": "stream",
     "text": [
      "f\n"
     ]
    }
   ],
   "source": [
    "# map sex: 'f': 0, 'm':1\n",
    "profiles.sex = profiles.sex.map({'f': 0, 'm': 1})\n",
    "\n",
    "# map smokes:\n",
    "profiles.smokes = profiles.smokes.map({'no': 0,\n",
    "                                       'unknown': 0,\n",
    "                                       'sometimes': 1,\n",
    "                                       'when drinking': 1,\n",
    "                                       'trying to quit': 2,\n",
    "                                       'yes': 3})\n",
    "\n",
    "# drop the unused columns from profiles, store in new variable\n",
    "profiles_no_extra_columns = profiles.drop(labels=['level_0', 'index',\n",
    "                                                  'orientation', 'status',\n",
    "                                                  'ethnicity', 'drinks',\n",
    "                                                  'drugs', 'body_type',\n",
    "                                                  'body_image', 'diet',\n",
    "                                                  'diet_modifier', 'education', \n",
    "                                                  'sign', 'location',\n",
    "                                                  'speaks', 'last_online',\n",
    "                                                  'has_dogs', 'likes_dogs',\n",
    "                                                  'has_cats', 'likes_cats',\n",
    "                                                  'offspring', 'more_children',\n",
    "                                                  'height', 'religion_mod',\n",
    "                                                  'essay0', 'essay1', \n",
    "                                                  'essay2', 'essay3', \n",
    "                                                  'essay4', 'essay5', \n",
    "                                                  'essay6', 'essay7', \n",
    "                                                  'essay8', 'essay9', \n",
    "                                                  'all_essays'\n",
    "                                                  ], axis=1)\n",
    "\n",
    "# create dummy variables for religion and city\n",
    "profiles_clean = pd.get_dummies(profiles_no_extra_columns, prefix=['religion', 'city'])\n",
    "\n",
    "# create lists for feature subsets to drop on for trials. keywords already exists. Create languages and cities\n",
    "languages = lang_list + ['sign_language','C_plus_plus']\n",
    "cities =  ['city_alameda', 'city_albany', 'city_belmont', 'city_benicia', 'city_berkeley', 'city_burlingame',\n",
    "           'city_castro valley', 'city_daly city', 'city_el cerrito', 'city_el sobrante', 'city_emeryville',\n",
    "           'city_fairfax', 'city_hayward', 'city_hercules', 'city_lafayette', 'city_martinez', 'city_menlo park',\n",
    "           'city_mill valley', 'city_millbrae', 'city_mountain view', 'city_novato', 'city_oakland', 'city_other',\n",
    "           'city_pacifica', 'city_palo alto', 'city_pleasant hill', 'city_redwood city', 'city_richmond',\n",
    "           'city_san anselmo', 'city_san bruno', 'city_san carlos', 'city_san francisco', 'city_san leandro',\n",
    "           'city_san lorenzo', 'city_san mateo', 'city_san pablo', 'city_san rafael', 'city_sausalito',\n",
    "           'city_south san francisco', 'city_stanford', 'city_vallejo', 'city_walnut creek']"
   ]
  },
  {
   "cell_type": "markdown",
   "metadata": {},
   "source": [
    "### Modeling\n",
    "1. Split data into training and test sets.\n",
    "2. From X_train and X_test, drop 'keywords' columns. Store in X_train3 and X_test3.\n",
    "3. From X_train3 and X_test3, drop 'cities' columns. Store in X_train2 and X_test2.\n",
    "4. From X_train2 and X_test2, drop 'languages' columns. Store in X_train1 and X_test1.\n",
    "5. Create pipeline from RandomUnderSampler(), StandardScaler(), and LogisticRegression().\n",
    "6. Split training sets into 5 k-folds for cross validation.\n",
    "7. Evaluate each trials training data based on ROC-AUC.\n",
    "8. Fit on best trial model and run associated test data.\n",
    "9. Evaluate final model performance."
   ]
  },
  {
   "cell_type": "code",
   "execution_count": 34,
   "metadata": {},
   "outputs": [],
   "source": [
    "# import tools for modeling\n",
    "from sklearn.model_selection import train_test_split\n",
    "from imblearn.pipeline import Pipeline\n",
    "from imblearn.under_sampling import RandomUnderSampler\n",
    "from sklearn.preprocessing import StandardScaler\n",
    "from sklearn.linear_model import LogisticRegression\n",
    "from sklearn.model_selection import StratifiedKFold, cross_val_score\n",
    "from sklearn.metrics import confusion_matrix, roc_auc_score, accuracy_score, precision_recall_fscore_support\n",
    "\n",
    "# split into X data and y labels\n",
    "X = profiles_clean.drop(labels= ['STEM'], axis=1)\n",
    "y = profiles_clean['STEM']\n"
   ]
  },
  {
   "cell_type": "code",
   "execution_count": 35,
   "metadata": {},
   "outputs": [],
   "source": [
    "# train test split. X_train and X_test will be used for Trial 4\n",
    "X_train, X_test, y_train, y_test = train_test_split(X, y, test_size=0.2, random_state=42)\n",
    "\n",
    "# use X_train and X_test to get just the features for trial 3\n",
    "X_train3 = X_train.drop(columns=keywords)\n",
    "X_test3 = X_test.drop(columns=keywords)\n",
    "\n",
    "# use X_train and X_test to get just the features for trial 2\n",
    "X_train2 = X_train3.drop(columns=cities)\n",
    "X_test2 = X_test3.drop(columns=cities)\n",
    "\n",
    "# use X_train and X_test to get just the features for trial 1\n",
    "X_train1 = X_train2.drop(columns=languages)\n",
    "X_test1 = X_test2.drop(columns=languages)"
   ]
  },
  {
   "cell_type": "code",
   "execution_count": 36,
   "metadata": {},
   "outputs": [
    {
     "name": "stdout",
     "output_type": "stream",
     "text": [
      "[0.65416858 0.64394826 0.65609317 0.63753006 0.64219453] 0.6467869189266781\n",
      "[0.66753031 0.65750171 0.67270822 0.65533209 0.66238755] 0.6630919762585243\n",
      "[0.66606498 0.66022994 0.68269012 0.65979128 0.66802111] 0.6673594843620585\n",
      "[0.76031212 0.76900924 0.77815093 0.75464246 0.76994366] 0.7664116843461519\n"
     ]
    }
   ],
   "source": [
    "# create LogisticRegression model pipeline. random_state set to keep consistency between trials. \n",
    "# Max_iter increased to allow more time for model convergence on the large data set.\n",
    "pipeline = Pipeline([('under', RandomUnderSampler(random_state=42)),\n",
    "                     ('scaler', StandardScaler()),\n",
    "                     ('logit', LogisticRegression(max_iter=10000))])\n",
    "\n",
    "# create 5 k-folds for cross-validation. random_state set to keep consistency between trials.\n",
    "skf = StratifiedKFold(n_splits=5, shuffle=True, random_state= 1)\n",
    "\n",
    "# run pipeline for Trial 1\n",
    "cv_results1 = cross_val_score(pipeline,\n",
    "                              X_train1,\n",
    "                              y_train,\n",
    "                              cv= skf,\n",
    "                              scoring = 'roc_auc')\n",
    "print(cv_results1, np.mean(cv_results1))\n",
    "\n",
    "# run pipeline for Trial 2\n",
    "cv_results2 = cross_val_score(pipeline,\n",
    "                              X_train2,\n",
    "                              y_train,\n",
    "                              cv= skf,\n",
    "                              scoring = 'roc_auc')\n",
    "print(cv_results2, np.mean(cv_results2))\n",
    "\n",
    "# run pipeline for Trial 3\n",
    "cv_results3 = cross_val_score(pipeline,\n",
    "                              X_train3,\n",
    "                              y_train,\n",
    "                              cv= skf,\n",
    "                              scoring = 'roc_auc')\n",
    "print(cv_results3, np.mean(cv_results3))\n",
    "\n",
    "# run pipeline for Trial 4\n",
    "cv_results4 = cross_val_score(pipeline,\n",
    "                              X_train,\n",
    "                              y_train,\n",
    "                              cv= skf,\n",
    "                              scoring = 'roc_auc')\n",
    "print(cv_results4, np.mean(cv_results4))\n"
   ]
  },
  {
   "cell_type": "code",
   "execution_count": 37,
   "metadata": {},
   "outputs": [
    {
     "name": "stdout",
     "output_type": "stream",
     "text": [
      "0.7060418489639609\n",
      "[[6027 1689]\n",
      " [ 972 1662]]\n",
      "0.7428985507246377\n",
      "(array([0.86112302, 0.49597135]), array([0.7811042, 0.6309795]), array([0.81916412, 0.55538847]), array([7716, 2634], dtype=int64))\n"
     ]
    }
   ],
   "source": [
    "# fit pipeline on best trial, Trial 4 data\n",
    "predictions = pipeline.fit(X_train, y_train)\n",
    "# run logit on test data\n",
    "predictions = pipeline.predict(X_test)\n",
    "print(roc_auc_score(y_test, predictions))\n",
    "print(confusion_matrix(y_test, predictions))\n",
    "print(accuracy_score(y_test, predictions))\n",
    "print(precision_recall_fscore_support(y_test, predictions))"
   ]
  },
  {
   "cell_type": "markdown",
   "metadata": {},
   "source": [
    "## Results: \n",
    "\n",
    "**Trial 1:**\n",
    "- ROC-AUC Cross Validation = 0.65546156, 0.64562989, 0.65473433, 0.63543622, 0.64191477\n",
    "- ROC-AUC Average = 0.6466353507211386\n",
    "\n",
    "**Trial 2:** \n",
    "- ROC-AUC Cross Validation = 0.66731827, 0.65895028, 0.67019881, 0.65306156, 0.65941579 \n",
    "- ROC-AUC Average = 0.6617889419540262\n",
    "\n",
    "**Trial 3:** \n",
    "- ROC-AUC Cross Validation = 0.66601526, 0.66304628, 0.68204223, 0.65556055, 0.66420524\n",
    "- ROC-AUC Average = 0.6661739110006382\n",
    "\n",
    "**Trial 4:** \n",
    "- ROC-AUC Cross Validation = 0.7590591,  0.76913999, 0.77760996, 0.75448331, 0.76461276\n",
    "- ROC-AUC Average = 0.764981026622368\n",
    "\n",
    "**Test Data:** \n",
    "\n",
    "- ROC-AUC = 0.7062964747393519\n",
    "- Accuracy = 0.7430917874396136\n",
    "- Confusion Matrix = \n",
    "                        \n",
    "                            PREDICTED\n",
    "                         nonSTEM  STEM \n",
    "       ACTUAL    nonSTEM    6028  1688\n",
    "                 STEM        971  1663\n",
    "\n",
    "\n",
    "\n",
    "\n",
    "- STEM precision = 0.49597135\n",
    "- STEM recall = 0.6309795\n",
    "- STEM F1 = 0.55538847\n",
    "- Test data num_STEM (support) = 2634\n",
    "\n",
    "- nonSTEM precision = 0.86112302\n",
    "- nonSTEM recall = 0.7811042\n",
    "- nonSTEM F1 = 0.81916412\n",
    "- Test data num_nonSTEM (support) = 7716\n",
    "\n",
    "## Interpretation:\n",
    "\n",
    "Overall, Trials 1-3 did not perform well with respect to the ROC-AUC score. In general, ROC-AUC scores of 0.7-0.8 are considered acceptable. For context, a score of 0.5 is indicative of random guessing for equally distributed classes and a score of 1 is a perfect model. Since the classes were rebalanced to be equal for model development, Trials 1-3 only performed marginally better than random guessing. The significant improvement in model performance after adding the keyword features indicates the value of information that can be derived from free-text sources. Although the computational resources are somewhat higher when dealing with NLP methods, these features were the difference between a poorly performing model and one that can offer some predictive value. \n",
    "\n",
    "Looking at the test data confusion matrix and by class statistics, this model does not necessarily predict STEM profiles well, but performs well in predicting non-STEM profiles. Overall, the errors are most likely due to the amount of missing information in the original data and the fact that the test data classes were not rebalanced. For example, the model derives a significant amount of its prediction from the free text data, and over 9% of the population sample did not fill out any of the essays. As such, when computing probability of class, the model has limited information and was more often correct in the test data when assigning non-STEM due to a class imbalance in the population. A random guess between classes is more likely to be correct if it is non-STEM because the population occurrence of non-STEM profiles is roughly 3:1. The frequency of error types could be adjusted by lowering or raising the threshold of prediction for STEM profiles. Normally this would be done with the use of a profit-matrix where a different penalty (increased risk or financial cost) is assigned to the two types of error, false-positives and false-negatives. Based on the cost of each type of error, the decision threshold would be adjusted to shift the balance of the errors towards the less costly type.\n",
    "\n",
    "## Conclusion:\n",
    "\n",
    "This was a good exercise in feature extraction, natural language processing and strategies for dealing with imbalanced target classes. The model could most likely be improved by systematically eliminating poor performing features that only add noise to the classification model. One way to do this would be by looking at the absolute value of the coefficients for each of the features in the logistic regression formula. Those that are closest to 0 would be removed until removing any more does not improve model predictions or significantly impacts performance. In practice, models with similar performance but fewer features are preferred because they take less time to process and require the gathering of fewer data points. Another way to improve model performance would be to lower cutoff levels for keyword selection. This would increase the number of keywords and maximize the information derived from the essay columns. The trade-off would be more processing time for a diminishing increase in model performance. Due to the amount of missing information, the ceiling for model performance will be in the neighborhood of 0.9 because there is not enough variation in the non-text columns to reliably predict the class without the addition of keyword data. Additionally, other classification models could be explored including K-nearest Neighbor, Random Forest, Naive-Bayes and Neural Network models.\n"
   ]
  }
 ],
 "metadata": {
  "kernelspec": {
   "display_name": "Python 3",
   "language": "python",
   "name": "python3"
  },
  "language_info": {
   "codemirror_mode": {
    "name": "ipython",
    "version": 3
   },
   "file_extension": ".py",
   "mimetype": "text/x-python",
   "name": "python",
   "nbconvert_exporter": "python",
   "pygments_lexer": "ipython3",
   "version": "3.8.1"
  }
 },
 "nbformat": 4,
 "nbformat_minor": 4
}
